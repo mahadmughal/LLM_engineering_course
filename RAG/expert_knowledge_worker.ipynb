{
 "cells": [
  {
   "cell_type": "markdown",
   "metadata": {},
   "source": [
    "Export Knowledge Worker\n",
    "\n",
    "A question answering agent that is specialized in answering questions based on the knowledge base(text, files etc.) provided to it."
   ]
  },
  {
   "cell_type": "code",
   "execution_count": 131,
   "metadata": {},
   "outputs": [],
   "source": [
    "import os\n",
    "import glob\n",
    "from dotenv import load_dotenv\n",
    "import gradio as gr"
   ]
  },
  {
   "cell_type": "code",
   "execution_count": 132,
   "metadata": {},
   "outputs": [],
   "source": [
    "# import from langchain\n",
    "from langchain.document_loaders import TextLoader, DirectoryLoader\n",
    "from langchain.text_splitter import CharacterTextSplitter\n",
    "from langchain.embeddings import OpenAIEmbeddings\n",
    "from langchain.vectorstores import Chroma\n",
    "from langchain.schema import Document\n",
    "import numpy as np\n",
    "from sklearn.manifold import TSNE\n",
    "import plotly.graph_objects as go"
   ]
  },
  {
   "cell_type": "code",
   "execution_count": 133,
   "metadata": {},
   "outputs": [],
   "source": [
    "MODEL = 'gpt-4o-mini'\n",
    "db_name = 'vector_db'"
   ]
  },
  {
   "cell_type": "code",
   "execution_count": 153,
   "metadata": {},
   "outputs": [],
   "source": [
    "load_dotenv(override=True)\n",
    "\n",
    "# Load environment variables from .env file\n",
    "os.environ[\"OPENAI_API_KEY\"] = os.getenv(\"OPENAI_API_KEY\")"
   ]
  },
  {
   "cell_type": "code",
   "execution_count": 135,
   "metadata": {},
   "outputs": [
    {
     "data": {
      "text/plain": [
       "Document(metadata={'source': 'knowledge-base/products/Rellm.md', 'doc_type': 'products'}, page_content=\"# Product Summary\\n\\n# Rellm: AI-Powered Enterprise Reinsurance Solution\\n\\n## Summary\\n\\nRellm is an innovative enterprise reinsurance product developed by Insurellm, designed to transform the way reinsurance companies operate. Harnessing the power of artificial intelligence, Rellm offers an advanced platform that redefines risk management, enhances decision-making processes, and optimizes operational efficiencies within the reinsurance industry. With seamless integrations and robust analytics, Rellm enables insurers to proactively manage their portfolios and respond to market dynamics with agility.\\n\\n## Features\\n\\n### AI-Driven Analytics\\nRellm utilizes cutting-edge AI algorithms to provide predictive insights into risk exposures, enabling users to forecast trends and make informed decisions. Its real-time data analysis empowers reinsurance professionals with actionable intelligence.\\n\\n### Seamless Integrations\\nRellm's architecture is designed for effortless integration with existing systems. Whether it's policy management, claims processing, or financial reporting, Rellm connects seamlessly with diverse data sources to create a unified ecosystem.\\n\\n### Risk Assessment Module\\nThe comprehensive risk assessment module within Rellm allows insurers to evaluate risk profiles accurately. By leveraging historical data and advanced modeling techniques, Rellm provides a clear picture of potential liabilities and expected outcomes.\\n\\n### Customizable Dashboard\\nRellm features a customizable dashboard that presents key metrics and performance indicators in an intuitive interface. Users can tailor their view to focus on what matters most to their business, enhancing user experience and productivity.\\n\\n### Regulatory Compliance Tools\\nRellm includes built-in compliance tracking features to help organizations meet local and international regulatory standards. This ensures that reinsurance practices remain transparent and accountable.\\n\\n### Client and Broker Portals\\nRellm offers dedicated portals for both clients and brokers, facilitating real-time communication and documentation sharing. This strengthens partnerships and drives operational excellence across the board.\\n\\n## Pricing\\n\\nInsurellm offers flexible pricing plans for Rellm to cater to various business needs:\\n\\n- **Basic Plan**: $5,000/month\\n  - Includes access to core features and standard integrations.\\n  \\n- **Professional Plan**: $10,000/month\\n  - Includes all features, advanced integrations, and priority customer support.\\n  \\n- **Enterprise Plan**: Custom pricing\\n  - Tailored solutions with personalized features, extensive integrations, and dedicated account management.\\n\\nJoin the growing number of organizations leveraging Rellm to enhance their reinsurance processes while driving profitability and compliance. \\n\\n## 2025-2026 Roadmap\\n\\nAt Insurellm, we are committed to the continuous improvement of Rellm. Our roadmap for 2025-2026 includes:\\n\\n- **Q3 2025**: \\n  - Launch of the Rellm Mobile App for on-the-go insights and management.\\n  - Introduction of augmented reality (AR) features for interactive risk assessments.\\n\\n- **Q1 2026**: \\n  - Deployment of advanced machine learning models for even more accurate risk predictions.\\n  - Expansion of integration capabilities to support emerging technologies in the insurance sector.\\n\\n- **Q3 2026**: \\n  - Release of a community platform for Rellm users to exchange insights, tips, and best practices.\\n  - Launch of Rellm 2.0, featuring enhanced user interface and premium features based on user feedback.\\n\\nExperience the future of reinsurance with Rellm, where innovation meets reliability. Let Insurellm help you navigate the complexities of the reinsurance market smarter and faster.\")"
      ]
     },
     "execution_count": 135,
     "metadata": {},
     "output_type": "execute_result"
    }
   ],
   "source": [
    "# read in documents using Langchain loaders\n",
    "\n",
    "folders = glob.glob('knowledge-base/*')\n",
    "\n",
    "documents = []\n",
    "\n",
    "for folder in folders:\n",
    "    doc_type = folder.split('/')[-1]\n",
    "    loader = DirectoryLoader(folder, glob='**/*.md', loader_cls=TextLoader)\n",
    "    folder_docs = loader.load()\n",
    "    for doc in folder_docs:\n",
    "        doc.metadata['doc_type'] = doc_type\n",
    "        documents.append(doc)\n",
    "        \n",
    "len(documents)\n",
    "documents[0]"
   ]
  },
  {
   "cell_type": "code",
   "execution_count": 136,
   "metadata": {},
   "outputs": [
    {
     "name": "stderr",
     "output_type": "stream",
     "text": [
      "Created a chunk of size 1088, which is longer than the specified 1000\n"
     ]
    },
    {
     "data": {
      "text/plain": [
       "Document(metadata={'source': 'knowledge-base/products/Rellm.md', 'doc_type': 'products'}, page_content='# Product Summary\\n\\n# Rellm: AI-Powered Enterprise Reinsurance Solution\\n\\n## Summary\\n\\nRellm is an innovative enterprise reinsurance product developed by Insurellm, designed to transform the way reinsurance companies operate. Harnessing the power of artificial intelligence, Rellm offers an advanced platform that redefines risk management, enhances decision-making processes, and optimizes operational efficiencies within the reinsurance industry. With seamless integrations and robust analytics, Rellm enables insurers to proactively manage their portfolios and respond to market dynamics with agility.\\n\\n## Features\\n\\n### AI-Driven Analytics\\nRellm utilizes cutting-edge AI algorithms to provide predictive insights into risk exposures, enabling users to forecast trends and make informed decisions. Its real-time data analysis empowers reinsurance professionals with actionable intelligence.')"
      ]
     },
     "execution_count": 136,
     "metadata": {},
     "output_type": "execute_result"
    }
   ],
   "source": [
    "text_splitter = CharacterTextSplitter(\n",
    "    chunk_size=1000,\n",
    "    chunk_overlap=200)\n",
    "\n",
    "chunks = text_splitter.split_documents(documents)\n",
    "\n",
    "len(chunks)\n",
    "chunks[0]"
   ]
  },
  {
   "cell_type": "code",
   "execution_count": 137,
   "metadata": {},
   "outputs": [
    {
     "name": "stdout",
     "output_type": "stream",
     "text": [
      "Document types: {'company', 'products', 'employees', 'contracts'}\n"
     ]
    }
   ],
   "source": [
    "doc_types = set(chunk.metadata['doc_type'] for chunk in chunks)\n",
    "print(f\"Document types: {doc_types}\")"
   ]
  },
  {
   "cell_type": "code",
   "execution_count": 138,
   "metadata": {},
   "outputs": [],
   "source": [
    "embeddings = OpenAIEmbeddings()"
   ]
  },
  {
   "cell_type": "code",
   "execution_count": 139,
   "metadata": {},
   "outputs": [
    {
     "name": "stdout",
     "output_type": "stream",
     "text": [
      "Delete existing vector store from vector_db\n"
     ]
    }
   ],
   "source": [
    "# check if Chroma vector store already exists, if so delete it and start from scratch.\n",
    "\n",
    "if os.path.exists(db_name):\n",
    "    print(f\"Delete existing vector store from {db_name}\")\n",
    "    Chroma(persist_directory=db_name, embedding_function=embeddings).delete_collection()"
   ]
  },
  {
   "cell_type": "code",
   "execution_count": 140,
   "metadata": {},
   "outputs": [
    {
     "name": "stdout",
     "output_type": "stream",
     "text": [
      "Persisting vector store to vector_db\n",
      "Number of documents in vector store: 123\n"
     ]
    }
   ],
   "source": [
    "# Create a new Chroma vector store\n",
    "\n",
    "vectorstore = Chroma.from_documents(\n",
    "    documents=chunks,\n",
    "    embedding=embeddings,\n",
    "    persist_directory=db_name\n",
    ")\n",
    "\n",
    "print(f\"Persisting vector store to {db_name}\")\n",
    "print(f\"Number of documents in vector store: {vectorstore._collection.count()}\")"
   ]
  },
  {
   "cell_type": "code",
   "execution_count": 141,
   "metadata": {},
   "outputs": [
    {
     "name": "stdout",
     "output_type": "stream",
     "text": [
      "Sample embedding has 1536 dimensions\n"
     ]
    }
   ],
   "source": [
    "# Find one vector and see how many dimentions it has ...\n",
    "\n",
    "collection = vectorstore._collection\n",
    "sample_embedding = collection.get(limit=1, include=['embeddings'])['embeddings'][0]\n",
    "dimentions = len(sample_embedding)\n",
    "print(f\"Sample embedding has {dimentions} dimensions\")"
   ]
  },
  {
   "cell_type": "code",
   "execution_count": 145,
   "metadata": {},
   "outputs": [
    {
     "data": {
      "text/plain": [
       "['blue',\n",
       " 'blue',\n",
       " 'blue',\n",
       " 'blue',\n",
       " 'blue',\n",
       " 'blue',\n",
       " 'blue',\n",
       " 'blue',\n",
       " 'blue',\n",
       " 'blue',\n",
       " 'blue',\n",
       " 'blue',\n",
       " 'blue',\n",
       " 'blue',\n",
       " 'blue',\n",
       " 'blue',\n",
       " 'blue',\n",
       " 'blue',\n",
       " 'blue',\n",
       " 'blue',\n",
       " 'blue',\n",
       " 'red',\n",
       " 'red',\n",
       " 'red',\n",
       " 'red',\n",
       " 'red',\n",
       " 'red',\n",
       " 'red',\n",
       " 'red',\n",
       " 'red',\n",
       " 'red',\n",
       " 'red',\n",
       " 'red',\n",
       " 'red',\n",
       " 'red',\n",
       " 'red',\n",
       " 'red',\n",
       " 'red',\n",
       " 'red',\n",
       " 'red',\n",
       " 'red',\n",
       " 'red',\n",
       " 'red',\n",
       " 'red',\n",
       " 'red',\n",
       " 'red',\n",
       " 'red',\n",
       " 'red',\n",
       " 'red',\n",
       " 'red',\n",
       " 'red',\n",
       " 'red',\n",
       " 'red',\n",
       " 'red',\n",
       " 'red',\n",
       " 'red',\n",
       " 'red',\n",
       " 'red',\n",
       " 'red',\n",
       " 'red',\n",
       " 'red',\n",
       " 'red',\n",
       " 'red',\n",
       " 'red',\n",
       " 'red',\n",
       " 'red',\n",
       " 'red',\n",
       " 'red',\n",
       " 'red',\n",
       " 'red',\n",
       " 'red',\n",
       " 'red',\n",
       " 'red',\n",
       " 'orange',\n",
       " 'orange',\n",
       " 'orange',\n",
       " 'green',\n",
       " 'green',\n",
       " 'green',\n",
       " 'green',\n",
       " 'green',\n",
       " 'green',\n",
       " 'green',\n",
       " 'green',\n",
       " 'green',\n",
       " 'green',\n",
       " 'green',\n",
       " 'green',\n",
       " 'green',\n",
       " 'green',\n",
       " 'green',\n",
       " 'green',\n",
       " 'green',\n",
       " 'green',\n",
       " 'green',\n",
       " 'green',\n",
       " 'green',\n",
       " 'green',\n",
       " 'green',\n",
       " 'green',\n",
       " 'green',\n",
       " 'green',\n",
       " 'green',\n",
       " 'green',\n",
       " 'green',\n",
       " 'green',\n",
       " 'green',\n",
       " 'green',\n",
       " 'green',\n",
       " 'green',\n",
       " 'green',\n",
       " 'green',\n",
       " 'green',\n",
       " 'green',\n",
       " 'green',\n",
       " 'green',\n",
       " 'green',\n",
       " 'green',\n",
       " 'green',\n",
       " 'green',\n",
       " 'green',\n",
       " 'green',\n",
       " 'green']"
      ]
     },
     "execution_count": 145,
     "metadata": {},
     "output_type": "execute_result"
    }
   ],
   "source": [
    "result = collection.get(include=['embeddings', 'documents', 'metadatas'])\n",
    "vectors = np.array(result['embeddings'])\n",
    "documents = result['documents']\n",
    "doc_types = (metadata['doc_type'] for metadata in result['metadatas'])\n",
    "colors = [['blue', 'green', 'red', 'orange'][['products', 'employees', 'contracts', 'company'].index(t)] for t in doc_types]\n",
    "colors"
   ]
  },
  {
   "cell_type": "code",
   "execution_count": 148,
   "metadata": {},
   "outputs": [
    {
     "data": {
      "application/vnd.plotly.v1+json": {
       "config": {
        "plotlyServerURL": "https://plot.ly"
       },
       "data": [
        {
         "hoverinfo": "text",
         "marker": {
          "color": [
           "blue",
           "blue",
           "blue",
           "blue",
           "blue",
           "blue",
           "blue",
           "blue",
           "blue",
           "blue",
           "blue",
           "blue",
           "blue",
           "blue",
           "blue",
           "blue",
           "blue",
           "blue",
           "blue",
           "blue",
           "blue",
           "red",
           "red",
           "red",
           "red",
           "red",
           "red",
           "red",
           "red",
           "red",
           "red",
           "red",
           "red",
           "red",
           "red",
           "red",
           "red",
           "red",
           "red",
           "red",
           "red",
           "red",
           "red",
           "red",
           "red",
           "red",
           "red",
           "red",
           "red",
           "red",
           "red",
           "red",
           "red",
           "red",
           "red",
           "red",
           "red",
           "red",
           "red",
           "red",
           "red",
           "red",
           "red",
           "red",
           "red",
           "red",
           "red",
           "red",
           "red",
           "red",
           "red",
           "red",
           "red",
           "orange",
           "orange",
           "orange",
           "green",
           "green",
           "green",
           "green",
           "green",
           "green",
           "green",
           "green",
           "green",
           "green",
           "green",
           "green",
           "green",
           "green",
           "green",
           "green",
           "green",
           "green",
           "green",
           "green",
           "green",
           "green",
           "green",
           "green",
           "green",
           "green",
           "green",
           "green",
           "green",
           "green",
           "green",
           "green",
           "green",
           "green",
           "green",
           "green",
           "green",
           "green",
           "green",
           "green",
           "green",
           "green",
           "green",
           "green",
           "green",
           "green",
           "green"
          ],
          "opacity": 0.8,
          "size": 10
         },
         "mode": "markers",
         "text": [
          "Document: # Product Summary\n\n# Rellm: AI-Powered Enterprise ...<br>Type: products",
          "Document: ### Seamless Integrations\nRellm's architecture is ...<br>Type: products",
          "Document: ### Regulatory Compliance Tools\nRellm includes bui...<br>Type: products",
          "Document: Join the growing number of organizations leveragin...<br>Type: products",
          "Document: Experience the future of reinsurance with Rellm, w...<br>Type: products",
          "Document: # Product Summary\n\n# Markellm\n\n## Summary\n\nMarkell...<br>Type: products",
          "Document: - **User-Friendly Interface**: Designed with user ...<br>Type: products",
          "Document: - **Customer Support**: Our dedicated support team...<br>Type: products",
          "Document: ### For Insurance Companies:\n- **Basic Listing Fee...<br>Type: products",
          "Document: ### Q3 2025\n- Initiate a comprehensive marketing c...<br>Type: products",
          "Document: # Product Summary\n\n# Homellm\n\n## Summary\nHomellm i...<br>Type: products",
          "Document: ### 2. Dynamic Pricing Model\nWith Homellm's innova...<br>Type: products",
          "Document: ### 5. Multi-Channel Integration\nHomellm seamlessl...<br>Type: products",
          "Document: - **Basic Tier:** Starting at $5,000/month for sma...<br>Type: products",
          "Document: All tiers include a comprehensive training program...<br>Type: products",
          "Document: With Homellm, Insurellm is committed to transformi...<br>Type: products",
          "Document: # Product Summary\n\n# Carllm\n\n## Summary\n\nCarllm is...<br>Type: products",
          "Document: - **Instant Quoting**: With Carllm, insurance comp...<br>Type: products",
          "Document: - **Mobile Integration**: Carllm is designed to wo...<br>Type: products",
          "Document: - **Professional Tier**: $2,500/month\n  - For medi...<br>Type: products",
          "Document: ### Q2 2025: Customer Experience Improvements\n- La...<br>Type: products",
          "Document: # Contract with GreenField Holdings for Markellm\n\n...<br>Type: contracts",
          "Document: ## Renewal\n1. **Automatic Renewal**: This contract...<br>Type: contracts",
          "Document: ## Features\n1. **AI-Powered Matching**: Access to ...<br>Type: contracts",
          "Document: ## Support\n1. **Customer Support Access**: The Cli...<br>Type: contracts",
          "Document: **Signatures:**  \n_________________________       ...<br>Type: contracts",
          "Document: # Contract with Apex Reinsurance for Rellm: AI-Pow...<br>Type: contracts",
          "Document: ## Renewal\n\n1. **Automatic Renewal**: This Agreeme...<br>Type: contracts",
          "Document: 2. **Seamless Integrations**: The architecture of ...<br>Type: contracts",
          "Document: 1. **Technical Support**: Provider shall offer ded...<br>Type: contracts",
          "Document: **Insurellm, Inc.**  \n____________________________...<br>Type: contracts",
          "Document: # Contract with Greenstone Insurance for Homellm\n\n...<br>Type: contracts",
          "Document: 4. **Payment Terms**: \n   - The Customer shall pay...<br>Type: contracts",
          "Document: ---\n\n## Features\n\n- **AI-Powered Risk Assessment**...<br>Type: contracts",
          "Document: - **Customer Portal**: A dedicated portal will be ...<br>Type: contracts",
          "Document: ______________________________  \n[Name], [Title]  ...<br>Type: contracts",
          "Document: # Contract with Roadway Insurance Inc. for Carllm\n...<br>Type: contracts",
          "Document: ---\n\n## Renewal\n\n1. **Automatic Renewal**: This ag...<br>Type: contracts",
          "Document: ---\n\n## Features\n\n1. **Access to Core Features**: ...<br>Type: contracts",
          "Document: ---\n\n## Support\n\n1. **Technical Support**: Roadway...<br>Type: contracts",
          "Document: # Contract with Stellar Insurance Co. for Rellm\n\n#...<br>Type: contracts",
          "Document: ### Termination\nEither party may terminate this ag...<br>Type: contracts",
          "Document: ## Features\nStellar Insurance Co. will receive acc...<br>Type: contracts",
          "Document: ## Support\nInsurellm provides Stellar Insurance Co...<br>Type: contracts",
          "Document: # Contract with TechDrive Insurance for Carllm\n\n**...<br>Type: contracts",
          "Document: ## Renewal\n\n1. **Automatic Renewal**: This contrac...<br>Type: contracts",
          "Document: ## Support\n\n1. **Customer Support**: Insurellm wil...<br>Type: contracts",
          "Document: **TechDrive Insurance Representative:**  \nName: Sa...<br>Type: contracts",
          "Document: # Contract with Belvedere Insurance for Markellm\n\n...<br>Type: contracts",
          "Document: ## Renewal\n1. **Renewal Terms**: This Agreement ma...<br>Type: contracts",
          "Document: ## Features\n1. **AI-Powered Matching**: Belvedere ...<br>Type: contracts",
          "Document: ## Support\n1. **Technical Support**: Technical sup...<br>Type: contracts",
          "Document: **Belvedere Insurance**  \nSignature: _____________...<br>Type: contracts",
          "Document: # Contract with Velocity Auto Solutions for Carllm...<br>Type: contracts",
          "Document: ## Renewal\n\n1. **Automatic Renewal**: This contrac...<br>Type: contracts",
          "Document: ## Support\n\n1. **Customer Support**: Velocity Auto...<br>Type: contracts",
          "Document: # Contract with GreenValley Insurance for Homellm\n...<br>Type: contracts",
          "Document: 4. **Confidentiality:** Both parties agree to main...<br>Type: contracts",
          "Document: 1. **AI-Powered Risk Assessment:** Access to advan...<br>Type: contracts",
          "Document: 3. **Regular Updates:** Insurellm will offer ongoi...<br>Type: contracts",
          "Document: # Contract with EverGuard Insurance for Rellm: AI-...<br>Type: contracts",
          "Document: 4. **Usage Rights**: EverGuard Insurance is grante...<br>Type: contracts",
          "Document: 1. **Core Functionality**: Rellm provides EverGuar...<br>Type: contracts",
          "Document: 1. **Customer Support**: Insurellm will provide Ev...<br>Type: contracts",
          "Document: ---\n\n**Signatures**  \n**For Insurellm**: _________...<br>Type: contracts",
          "Document: # Contract with BrightWay Solutions for Markellm\n\n...<br>Type: contracts",
          "Document: 3. **Service Level Agreement (SLA):**  \n   Insurel...<br>Type: contracts",
          "Document: 2. **Real-Time Quote Availability:**  \n   Consumer...<br>Type: contracts",
          "Document: 3. **Training and Onboarding:**  \n   Insurellm agr...<br>Type: contracts",
          "Document: # Contract with Pinnacle Insurance Co. for Homellm...<br>Type: contracts",
          "Document: ## Renewal\n1. **Renewal Terms**: At the end of the...<br>Type: contracts",
          "Document: ## Features\n1. **AI-Powered Risk Assessment**: Uti...<br>Type: contracts",
          "Document: ## Support\n1. **Technical Support**: Insurellm sha...<br>Type: contracts",
          "Document: # Overview of Insurellm\n\nInsurellm is an innovativ...<br>Type: company",
          "Document: # Careers at Insurellm\n\nInsurellm is hiring! We ar...<br>Type: company",
          "Document: # About Insurellm\n\nInsurellm was founded by Avery ...<br>Type: company",
          "Document: # HR Record\n\n# Alex Chen\n\n## Summary\n- **Date of B...<br>Type: employees",
          "Document: ## Annual Performance History\n- **2020:**  \n  - Co...<br>Type: employees",
          "Document: ## Compensation History\n- **2020:** Base Salary: $...<br>Type: employees",
          "Document: Alex Chen continues to be a vital asset at Insurel...<br>Type: employees",
          "Document: # HR Record\n\n# Oliver Spencer\n\n## Summary\n- **Date...<br>Type: employees",
          "Document: ## Annual Performance History\n- **2018**: **3/5** ...<br>Type: employees",
          "Document: ## Compensation History\n- **March 2018**: Initial ...<br>Type: employees",
          "Document: # HR Record\n\n# Emily Tran\n\n## Summary\n- **Date of ...<br>Type: employees",
          "Document: - **January 2017 - May 2018**: Marketing Intern  \n...<br>Type: employees",
          "Document: - **2021**:  \n  - Performance Rating: Meets Expect...<br>Type: employees",
          "Document: - **Professional Development Goals**:  \n  - Emily ...<br>Type: employees",
          "Document: # HR Record\n\n# Jordan Blake\n\n## Summary\n- **Date o...<br>Type: employees",
          "Document: ## Annual Performance History\n- **2021:** First ye...<br>Type: employees",
          "Document: ## Other HR Notes\n- Jordan has shown an interest i...<br>Type: employees",
          "Document: # Avery Lancaster\n\n## Summary\n- **Date of Birth**:...<br>Type: employees",
          "Document: - **2010 - 2013**: Business Analyst at Edge Analyt...<br>Type: employees",
          "Document: - **2018**: **Exceeds Expectations**  \n  Under Ave...<br>Type: employees",
          "Document: - **2022**: **Satisfactory**  \n  Avery focused on ...<br>Type: employees",
          "Document: ## Compensation History\n- **2015**: $150,000 base ...<br>Type: employees",
          "Document: ## Other HR Notes\n- **Professional Development**: ...<br>Type: employees",
          "Document: # HR Record\n\n# Maxine Thompson\n\n## Summary\n- **Dat...<br>Type: employees",
          "Document: ## Insurellm Career Progression\n- **January 2017 -...<br>Type: employees",
          "Document: ## Annual Performance History\n- **2017**: *Meets E...<br>Type: employees",
          "Document: - **2021**: *Exceeds Expectations*  \n  Maxine spea...<br>Type: employees",
          "Document: ## Compensation History\n- **2017**: $70,000 (Junio...<br>Type: employees",
          "Document: # Samantha Greene\n\n## Summary\n- **Date of Birth:**...<br>Type: employees",
          "Document: ## Annual Performance History\n- **2020:** Exceeds ...<br>Type: employees",
          "Document: ## Compensation History\n- **2020:** Base Salary - ...<br>Type: employees",
          "Document: - **2023:** Base Salary - $70,000  \n  Recognized f...<br>Type: employees",
          "Document: # HR Record\n\n# Alex Thomson\n\n## Summary\n- **Date o...<br>Type: employees",
          "Document: ## Annual Performance History  \n- **2022** - Rated...<br>Type: employees",
          "Document: ## Other HR Notes\n- Alex Thomson is an active memb...<br>Type: employees",
          "Document: # HR Record\n\n# Samuel Trenton\n\n## Summary\n- **Date...<br>Type: employees",
          "Document: ## Annual Performance History\n- **2023:** Rating: ...<br>Type: employees",
          "Document: ## Compensation History\n- **2023:** Base Salary: $...<br>Type: employees",
          "Document: - **Engagement in Company Culture:** Regularly par...<br>Type: employees",
          "Document: # HR Record\n\n# Alex Harper\n\n## Summary\n- **Date of...<br>Type: employees",
          "Document: ## Annual Performance History  \n- **2021**:  \n  - ...<br>Type: employees",
          "Document: - **2022**:  \n  - **Base Salary**: $65,000 (Promot...<br>Type: employees",
          "Document: # HR Record\n\n# Jordan K. Bishop\n\n## Summary\n- **Da...<br>Type: employees",
          "Document: ## Annual Performance History\n- **2019:** Exceeds ...<br>Type: employees",
          "Document: ## Compensation History\n- **June 2018:** Starting ...<br>Type: employees",
          "Document: ## Other HR Notes\n- Jordan K. Bishop has been an i...<br>Type: employees",
          "Document: # HR Record\n\n# Emily Carter\n\n## Summary\n- **Date o...<br>Type: employees",
          "Document: - **2017-2019:** Marketing Intern  \n  - Assisted w...<br>Type: employees",
          "Document: ## Compensation History\n| Year | Base Salary | Bon...<br>Type: employees",
          "Document: Emily Carter exemplifies the kind of talent that d...<br>Type: employees"
         ],
         "type": "scatter",
         "x": [
          -4.8327746,
          -4.1466413,
          -3.2938354,
          -5.5979238,
          -1.2775495,
          -7.4962726,
          -7.8027782,
          -8.145664,
          -8.651171,
          -6.8584576,
          -7.8243494,
          -8.70519,
          -8.076091,
          -7.426112,
          -8.185891,
          -0.553163,
          -5.479623,
          -5.7990894,
          -5.9108624,
          -5.9675155,
          -6.1328897,
          -4.3136477,
          -5.7143407,
          -9.79098,
          -9.076214,
          1.5465481,
          -3.7817602,
          -4.28098,
          -3.863781,
          -1.7866044,
          1.3087381,
          -3.07919,
          -3.9157372,
          -9.174087,
          -1.9550164,
          1.5245825,
          -3.196908,
          -6.537232,
          -4.982176,
          -2.7827468,
          -0.943775,
          -0.723976,
          -2.5838065,
          -1.6541208,
          -2.4594631,
          -3.7869923,
          -1.6695431,
          -1.0741022,
          -5.099882,
          -5.8822117,
          -7.269367,
          -1.1880406,
          0.5344982,
          -3.0609605,
          -3.9293845,
          -1.9656835,
          -2.4057353,
          -2.104593,
          -9.224509,
          -1.357999,
          -3.1772513,
          -3.4687479,
          -3.329543,
          -2.330441,
          0.95174253,
          -5.8241878,
          -6.8646607,
          -7.1761975,
          -5.5613446,
          -2.9098547,
          -5.8397803,
          -10.016849,
          -1.5434495,
          0.3561877,
          1.4006274,
          0.69682854,
          7.11973,
          11.090326,
          12.025776,
          3.6096935,
          7.1735387,
          11.070522,
          12.105321,
          8.541888,
          8.85249,
          10.670712,
          8.469078,
          7.1853013,
          11.639856,
          5.226171,
          5.3954473,
          7.3462996,
          7.792536,
          7.7796745,
          13.637798,
          5.615617,
          8.405457,
          8.4105625,
          9.685112,
          8.680807,
          12.953131,
          9.805121,
          10.347379,
          11.310383,
          10.663126,
          6.350349,
          12.555952,
          5.543057,
          7.921155,
          12.830311,
          12.860487,
          7.2237597,
          6.763259,
          12.183539,
          11.611111,
          6.4530654,
          10.664808,
          13.462108,
          5.5112205,
          8.541193,
          9.638608,
          11.072588,
          3.7214336
         ],
         "y": [
          0.92830294,
          0.40921474,
          -0.025483696,
          0.085116416,
          -0.10416225,
          1.2070389,
          1.5098068,
          2.206801,
          2.8244326,
          0.64667773,
          -1.0425673,
          -1.3054678,
          -1.7083793,
          -3.1405542,
          -3.0576317,
          -0.39614522,
          -1.5140616,
          -1.6582114,
          -2.4968944,
          -2.8308406,
          -0.69468457,
          5.1516376,
          8.145222,
          0.50171596,
          3.5041914,
          5.28414,
          3.3262556,
          2.1529973,
          0.5124927,
          3.3816948,
          4.7859035,
          5.8940926,
          7.317096,
          -1.4235175,
          5.0034003,
          5.687448,
          -4.518171,
          7.2050223,
          -3.4389172,
          -2.591821,
          1.9623113,
          2.2121367,
          0.6631876,
          1.5753517,
          -3.8473387,
          -2.5034099,
          -2.8055162,
          -3.3711927,
          5.171097,
          8.614529,
          2.2889466,
          3.9311333,
          5.107567,
          -3.7119164,
          -2.1701918,
          -2.1861694,
          6.511813,
          6.3393755,
          -0.4356333,
          6.031328,
          2.8341265,
          2.0189655,
          1.1955942,
          2.0158527,
          3.271461,
          4.4827585,
          4.3977933,
          3.632358,
          4.2768984,
          5.372572,
          8.393154,
          -1.2094414,
          4.4027143,
          -0.7725727,
          -1.2355107,
          -0.7901669,
          -5.118238,
          -0.13790585,
          -4.4327273,
          -1.91544,
          -4.901995,
          -0.25135824,
          -4.8242583,
          -4.01552,
          -3.1433644,
          -3.7033603,
          -3.3027222,
          -6.2357535,
          -3.769951,
          -4.487575,
          -0.5330938,
          0.37447268,
          0.9211934,
          1.0880597,
          -3.965979,
          -0.52024335,
          -7.20389,
          -1.1882461,
          -0.14781019,
          -0.20330028,
          -5.2318363,
          -6.096802,
          -1.0561377,
          -5.8959675,
          -5.7640185,
          -6.3970013,
          -1.8906645,
          -6.2495995,
          -5.600009,
          -2.7351484,
          -3.7284722,
          -2.4573169,
          -6.554561,
          -2.9539092,
          -2.7653284,
          -4.670205,
          0.3141158,
          -4.713952,
          -4.2572694,
          -4.8918276,
          -2.3041236,
          -4.5364995,
          -2.3814733
         ]
        }
       ],
       "layout": {
        "height": 600,
        "margin": {
         "b": 10,
         "l": 10,
         "r": 20,
         "t": 40
        },
        "template": {
         "data": {
          "bar": [
           {
            "error_x": {
             "color": "#2a3f5f"
            },
            "error_y": {
             "color": "#2a3f5f"
            },
            "marker": {
             "line": {
              "color": "#E5ECF6",
              "width": 0.5
             },
             "pattern": {
              "fillmode": "overlay",
              "size": 10,
              "solidity": 0.2
             }
            },
            "type": "bar"
           }
          ],
          "barpolar": [
           {
            "marker": {
             "line": {
              "color": "#E5ECF6",
              "width": 0.5
             },
             "pattern": {
              "fillmode": "overlay",
              "size": 10,
              "solidity": 0.2
             }
            },
            "type": "barpolar"
           }
          ],
          "carpet": [
           {
            "aaxis": {
             "endlinecolor": "#2a3f5f",
             "gridcolor": "white",
             "linecolor": "white",
             "minorgridcolor": "white",
             "startlinecolor": "#2a3f5f"
            },
            "baxis": {
             "endlinecolor": "#2a3f5f",
             "gridcolor": "white",
             "linecolor": "white",
             "minorgridcolor": "white",
             "startlinecolor": "#2a3f5f"
            },
            "type": "carpet"
           }
          ],
          "choropleth": [
           {
            "colorbar": {
             "outlinewidth": 0,
             "ticks": ""
            },
            "type": "choropleth"
           }
          ],
          "contour": [
           {
            "colorbar": {
             "outlinewidth": 0,
             "ticks": ""
            },
            "colorscale": [
             [
              0,
              "#0d0887"
             ],
             [
              0.1111111111111111,
              "#46039f"
             ],
             [
              0.2222222222222222,
              "#7201a8"
             ],
             [
              0.3333333333333333,
              "#9c179e"
             ],
             [
              0.4444444444444444,
              "#bd3786"
             ],
             [
              0.5555555555555556,
              "#d8576b"
             ],
             [
              0.6666666666666666,
              "#ed7953"
             ],
             [
              0.7777777777777778,
              "#fb9f3a"
             ],
             [
              0.8888888888888888,
              "#fdca26"
             ],
             [
              1,
              "#f0f921"
             ]
            ],
            "type": "contour"
           }
          ],
          "contourcarpet": [
           {
            "colorbar": {
             "outlinewidth": 0,
             "ticks": ""
            },
            "type": "contourcarpet"
           }
          ],
          "heatmap": [
           {
            "colorbar": {
             "outlinewidth": 0,
             "ticks": ""
            },
            "colorscale": [
             [
              0,
              "#0d0887"
             ],
             [
              0.1111111111111111,
              "#46039f"
             ],
             [
              0.2222222222222222,
              "#7201a8"
             ],
             [
              0.3333333333333333,
              "#9c179e"
             ],
             [
              0.4444444444444444,
              "#bd3786"
             ],
             [
              0.5555555555555556,
              "#d8576b"
             ],
             [
              0.6666666666666666,
              "#ed7953"
             ],
             [
              0.7777777777777778,
              "#fb9f3a"
             ],
             [
              0.8888888888888888,
              "#fdca26"
             ],
             [
              1,
              "#f0f921"
             ]
            ],
            "type": "heatmap"
           }
          ],
          "heatmapgl": [
           {
            "colorbar": {
             "outlinewidth": 0,
             "ticks": ""
            },
            "colorscale": [
             [
              0,
              "#0d0887"
             ],
             [
              0.1111111111111111,
              "#46039f"
             ],
             [
              0.2222222222222222,
              "#7201a8"
             ],
             [
              0.3333333333333333,
              "#9c179e"
             ],
             [
              0.4444444444444444,
              "#bd3786"
             ],
             [
              0.5555555555555556,
              "#d8576b"
             ],
             [
              0.6666666666666666,
              "#ed7953"
             ],
             [
              0.7777777777777778,
              "#fb9f3a"
             ],
             [
              0.8888888888888888,
              "#fdca26"
             ],
             [
              1,
              "#f0f921"
             ]
            ],
            "type": "heatmapgl"
           }
          ],
          "histogram": [
           {
            "marker": {
             "pattern": {
              "fillmode": "overlay",
              "size": 10,
              "solidity": 0.2
             }
            },
            "type": "histogram"
           }
          ],
          "histogram2d": [
           {
            "colorbar": {
             "outlinewidth": 0,
             "ticks": ""
            },
            "colorscale": [
             [
              0,
              "#0d0887"
             ],
             [
              0.1111111111111111,
              "#46039f"
             ],
             [
              0.2222222222222222,
              "#7201a8"
             ],
             [
              0.3333333333333333,
              "#9c179e"
             ],
             [
              0.4444444444444444,
              "#bd3786"
             ],
             [
              0.5555555555555556,
              "#d8576b"
             ],
             [
              0.6666666666666666,
              "#ed7953"
             ],
             [
              0.7777777777777778,
              "#fb9f3a"
             ],
             [
              0.8888888888888888,
              "#fdca26"
             ],
             [
              1,
              "#f0f921"
             ]
            ],
            "type": "histogram2d"
           }
          ],
          "histogram2dcontour": [
           {
            "colorbar": {
             "outlinewidth": 0,
             "ticks": ""
            },
            "colorscale": [
             [
              0,
              "#0d0887"
             ],
             [
              0.1111111111111111,
              "#46039f"
             ],
             [
              0.2222222222222222,
              "#7201a8"
             ],
             [
              0.3333333333333333,
              "#9c179e"
             ],
             [
              0.4444444444444444,
              "#bd3786"
             ],
             [
              0.5555555555555556,
              "#d8576b"
             ],
             [
              0.6666666666666666,
              "#ed7953"
             ],
             [
              0.7777777777777778,
              "#fb9f3a"
             ],
             [
              0.8888888888888888,
              "#fdca26"
             ],
             [
              1,
              "#f0f921"
             ]
            ],
            "type": "histogram2dcontour"
           }
          ],
          "mesh3d": [
           {
            "colorbar": {
             "outlinewidth": 0,
             "ticks": ""
            },
            "type": "mesh3d"
           }
          ],
          "parcoords": [
           {
            "line": {
             "colorbar": {
              "outlinewidth": 0,
              "ticks": ""
             }
            },
            "type": "parcoords"
           }
          ],
          "pie": [
           {
            "automargin": true,
            "type": "pie"
           }
          ],
          "scatter": [
           {
            "fillpattern": {
             "fillmode": "overlay",
             "size": 10,
             "solidity": 0.2
            },
            "type": "scatter"
           }
          ],
          "scatter3d": [
           {
            "line": {
             "colorbar": {
              "outlinewidth": 0,
              "ticks": ""
             }
            },
            "marker": {
             "colorbar": {
              "outlinewidth": 0,
              "ticks": ""
             }
            },
            "type": "scatter3d"
           }
          ],
          "scattercarpet": [
           {
            "marker": {
             "colorbar": {
              "outlinewidth": 0,
              "ticks": ""
             }
            },
            "type": "scattercarpet"
           }
          ],
          "scattergeo": [
           {
            "marker": {
             "colorbar": {
              "outlinewidth": 0,
              "ticks": ""
             }
            },
            "type": "scattergeo"
           }
          ],
          "scattergl": [
           {
            "marker": {
             "colorbar": {
              "outlinewidth": 0,
              "ticks": ""
             }
            },
            "type": "scattergl"
           }
          ],
          "scattermapbox": [
           {
            "marker": {
             "colorbar": {
              "outlinewidth": 0,
              "ticks": ""
             }
            },
            "type": "scattermapbox"
           }
          ],
          "scatterpolar": [
           {
            "marker": {
             "colorbar": {
              "outlinewidth": 0,
              "ticks": ""
             }
            },
            "type": "scatterpolar"
           }
          ],
          "scatterpolargl": [
           {
            "marker": {
             "colorbar": {
              "outlinewidth": 0,
              "ticks": ""
             }
            },
            "type": "scatterpolargl"
           }
          ],
          "scatterternary": [
           {
            "marker": {
             "colorbar": {
              "outlinewidth": 0,
              "ticks": ""
             }
            },
            "type": "scatterternary"
           }
          ],
          "surface": [
           {
            "colorbar": {
             "outlinewidth": 0,
             "ticks": ""
            },
            "colorscale": [
             [
              0,
              "#0d0887"
             ],
             [
              0.1111111111111111,
              "#46039f"
             ],
             [
              0.2222222222222222,
              "#7201a8"
             ],
             [
              0.3333333333333333,
              "#9c179e"
             ],
             [
              0.4444444444444444,
              "#bd3786"
             ],
             [
              0.5555555555555556,
              "#d8576b"
             ],
             [
              0.6666666666666666,
              "#ed7953"
             ],
             [
              0.7777777777777778,
              "#fb9f3a"
             ],
             [
              0.8888888888888888,
              "#fdca26"
             ],
             [
              1,
              "#f0f921"
             ]
            ],
            "type": "surface"
           }
          ],
          "table": [
           {
            "cells": {
             "fill": {
              "color": "#EBF0F8"
             },
             "line": {
              "color": "white"
             }
            },
            "header": {
             "fill": {
              "color": "#C8D4E3"
             },
             "line": {
              "color": "white"
             }
            },
            "type": "table"
           }
          ]
         },
         "layout": {
          "annotationdefaults": {
           "arrowcolor": "#2a3f5f",
           "arrowhead": 0,
           "arrowwidth": 1
          },
          "autotypenumbers": "strict",
          "coloraxis": {
           "colorbar": {
            "outlinewidth": 0,
            "ticks": ""
           }
          },
          "colorscale": {
           "diverging": [
            [
             0,
             "#8e0152"
            ],
            [
             0.1,
             "#c51b7d"
            ],
            [
             0.2,
             "#de77ae"
            ],
            [
             0.3,
             "#f1b6da"
            ],
            [
             0.4,
             "#fde0ef"
            ],
            [
             0.5,
             "#f7f7f7"
            ],
            [
             0.6,
             "#e6f5d0"
            ],
            [
             0.7,
             "#b8e186"
            ],
            [
             0.8,
             "#7fbc41"
            ],
            [
             0.9,
             "#4d9221"
            ],
            [
             1,
             "#276419"
            ]
           ],
           "sequential": [
            [
             0,
             "#0d0887"
            ],
            [
             0.1111111111111111,
             "#46039f"
            ],
            [
             0.2222222222222222,
             "#7201a8"
            ],
            [
             0.3333333333333333,
             "#9c179e"
            ],
            [
             0.4444444444444444,
             "#bd3786"
            ],
            [
             0.5555555555555556,
             "#d8576b"
            ],
            [
             0.6666666666666666,
             "#ed7953"
            ],
            [
             0.7777777777777778,
             "#fb9f3a"
            ],
            [
             0.8888888888888888,
             "#fdca26"
            ],
            [
             1,
             "#f0f921"
            ]
           ],
           "sequentialminus": [
            [
             0,
             "#0d0887"
            ],
            [
             0.1111111111111111,
             "#46039f"
            ],
            [
             0.2222222222222222,
             "#7201a8"
            ],
            [
             0.3333333333333333,
             "#9c179e"
            ],
            [
             0.4444444444444444,
             "#bd3786"
            ],
            [
             0.5555555555555556,
             "#d8576b"
            ],
            [
             0.6666666666666666,
             "#ed7953"
            ],
            [
             0.7777777777777778,
             "#fb9f3a"
            ],
            [
             0.8888888888888888,
             "#fdca26"
            ],
            [
             1,
             "#f0f921"
            ]
           ]
          },
          "colorway": [
           "#636efa",
           "#EF553B",
           "#00cc96",
           "#ab63fa",
           "#FFA15A",
           "#19d3f3",
           "#FF6692",
           "#B6E880",
           "#FF97FF",
           "#FECB52"
          ],
          "font": {
           "color": "#2a3f5f"
          },
          "geo": {
           "bgcolor": "white",
           "lakecolor": "white",
           "landcolor": "#E5ECF6",
           "showlakes": true,
           "showland": true,
           "subunitcolor": "white"
          },
          "hoverlabel": {
           "align": "left"
          },
          "hovermode": "closest",
          "mapbox": {
           "style": "light"
          },
          "paper_bgcolor": "white",
          "plot_bgcolor": "#E5ECF6",
          "polar": {
           "angularaxis": {
            "gridcolor": "white",
            "linecolor": "white",
            "ticks": ""
           },
           "bgcolor": "#E5ECF6",
           "radialaxis": {
            "gridcolor": "white",
            "linecolor": "white",
            "ticks": ""
           }
          },
          "scene": {
           "xaxis": {
            "backgroundcolor": "#E5ECF6",
            "gridcolor": "white",
            "gridwidth": 2,
            "linecolor": "white",
            "showbackground": true,
            "ticks": "",
            "zerolinecolor": "white"
           },
           "yaxis": {
            "backgroundcolor": "#E5ECF6",
            "gridcolor": "white",
            "gridwidth": 2,
            "linecolor": "white",
            "showbackground": true,
            "ticks": "",
            "zerolinecolor": "white"
           },
           "zaxis": {
            "backgroundcolor": "#E5ECF6",
            "gridcolor": "white",
            "gridwidth": 2,
            "linecolor": "white",
            "showbackground": true,
            "ticks": "",
            "zerolinecolor": "white"
           }
          },
          "shapedefaults": {
           "line": {
            "color": "#2a3f5f"
           }
          },
          "ternary": {
           "aaxis": {
            "gridcolor": "white",
            "linecolor": "white",
            "ticks": ""
           },
           "baxis": {
            "gridcolor": "white",
            "linecolor": "white",
            "ticks": ""
           },
           "bgcolor": "#E5ECF6",
           "caxis": {
            "gridcolor": "white",
            "linecolor": "white",
            "ticks": ""
           }
          },
          "title": {
           "x": 0.05
          },
          "xaxis": {
           "automargin": true,
           "gridcolor": "white",
           "linecolor": "white",
           "ticks": "",
           "title": {
            "standoff": 15
           },
           "zerolinecolor": "white",
           "zerolinewidth": 2
          },
          "yaxis": {
           "automargin": true,
           "gridcolor": "white",
           "linecolor": "white",
           "ticks": "",
           "title": {
            "standoff": 15
           },
           "zerolinecolor": "white",
           "zerolinewidth": 2
          }
         }
        },
        "title": {
         "text": "2D t-SNE Visualization of Vector Store"
        },
        "width": 800,
        "xaxis": {
         "title": {
          "text": "x"
         }
        },
        "yaxis": {
         "title": {
          "text": "y"
         }
        }
       }
      }
     },
     "metadata": {},
     "output_type": "display_data"
    }
   ],
   "source": [
    "# 2D t-SNE visualization of vector store\n",
    "# Reduce the dimensionality of the vectors to 2D using t-SNE\n",
    "# Note: t-SNE is computationally expensive and may take a while for large datasets\n",
    "\n",
    "tsne = TSNE(n_components=2, random_state=42)\n",
    "reduced_vectors = tsne.fit_transform(vectors)\n",
    "\n",
    "# Create 2D scatter plot\n",
    "fig = go.Figure(data=[go.Scatter(\n",
    "    x=reduced_vectors[:, 0],\n",
    "    y=reduced_vectors[:, 1],\n",
    "    mode='markers',\n",
    "    marker=dict(size=10, color=colors, opacity=0.8),\n",
    "    text=[\n",
    "        f\"Document: {doc[:50]}...<br>Type: {metadata['doc_type']}\"\n",
    "        for doc, metadata in zip(documents, result['metadatas'])\n",
    "    ],\n",
    "    hoverinfo='text',\n",
    ")])\n",
    "\n",
    "fig.update_layout(\n",
    "    title='2D t-SNE Visualization of Vector Store',\n",
    "    xaxis_title='x',\n",
    "    yaxis_title='y',\n",
    "    width=800,\n",
    "    height=600,\n",
    "    margin=dict(l=10, r=20, t=40, b=10),\n",
    ")\n",
    "\n",
    "fig.show()"
   ]
  },
  {
   "cell_type": "code",
   "execution_count": 152,
   "metadata": {},
   "outputs": [
    {
     "data": {
      "application/vnd.plotly.v1+json": {
       "config": {
        "plotlyServerURL": "https://plot.ly"
       },
       "data": [
        {
         "hoverinfo": "text",
         "marker": {
          "color": [
           "blue",
           "blue",
           "blue",
           "blue",
           "blue",
           "blue",
           "blue",
           "blue",
           "blue",
           "blue",
           "blue",
           "blue",
           "blue",
           "blue",
           "blue",
           "blue",
           "blue",
           "blue",
           "blue",
           "blue",
           "blue",
           "red",
           "red",
           "red",
           "red",
           "red",
           "red",
           "red",
           "red",
           "red",
           "red",
           "red",
           "red",
           "red",
           "red",
           "red",
           "red",
           "red",
           "red",
           "red",
           "red",
           "red",
           "red",
           "red",
           "red",
           "red",
           "red",
           "red",
           "red",
           "red",
           "red",
           "red",
           "red",
           "red",
           "red",
           "red",
           "red",
           "red",
           "red",
           "red",
           "red",
           "red",
           "red",
           "red",
           "red",
           "red",
           "red",
           "red",
           "red",
           "red",
           "red",
           "red",
           "red",
           "orange",
           "orange",
           "orange",
           "green",
           "green",
           "green",
           "green",
           "green",
           "green",
           "green",
           "green",
           "green",
           "green",
           "green",
           "green",
           "green",
           "green",
           "green",
           "green",
           "green",
           "green",
           "green",
           "green",
           "green",
           "green",
           "green",
           "green",
           "green",
           "green",
           "green",
           "green",
           "green",
           "green",
           "green",
           "green",
           "green",
           "green",
           "green",
           "green",
           "green",
           "green",
           "green",
           "green",
           "green",
           "green",
           "green",
           "green",
           "green",
           "green",
           "green"
          ],
          "opacity": 0.8,
          "size": 10
         },
         "mode": "markers",
         "text": [
          "Document: # Product Summary\n\n# Rellm: AI-Powered Enterprise ...<br>Type: products",
          "Document: ### Seamless Integrations\nRellm's architecture is ...<br>Type: products",
          "Document: ### Regulatory Compliance Tools\nRellm includes bui...<br>Type: products",
          "Document: Join the growing number of organizations leveragin...<br>Type: products",
          "Document: Experience the future of reinsurance with Rellm, w...<br>Type: products",
          "Document: # Product Summary\n\n# Markellm\n\n## Summary\n\nMarkell...<br>Type: products",
          "Document: - **User-Friendly Interface**: Designed with user ...<br>Type: products",
          "Document: - **Customer Support**: Our dedicated support team...<br>Type: products",
          "Document: ### For Insurance Companies:\n- **Basic Listing Fee...<br>Type: products",
          "Document: ### Q3 2025\n- Initiate a comprehensive marketing c...<br>Type: products",
          "Document: # Product Summary\n\n# Homellm\n\n## Summary\nHomellm i...<br>Type: products",
          "Document: ### 2. Dynamic Pricing Model\nWith Homellm's innova...<br>Type: products",
          "Document: ### 5. Multi-Channel Integration\nHomellm seamlessl...<br>Type: products",
          "Document: - **Basic Tier:** Starting at $5,000/month for sma...<br>Type: products",
          "Document: All tiers include a comprehensive training program...<br>Type: products",
          "Document: With Homellm, Insurellm is committed to transformi...<br>Type: products",
          "Document: # Product Summary\n\n# Carllm\n\n## Summary\n\nCarllm is...<br>Type: products",
          "Document: - **Instant Quoting**: With Carllm, insurance comp...<br>Type: products",
          "Document: - **Mobile Integration**: Carllm is designed to wo...<br>Type: products",
          "Document: - **Professional Tier**: $2,500/month\n  - For medi...<br>Type: products",
          "Document: ### Q2 2025: Customer Experience Improvements\n- La...<br>Type: products",
          "Document: # Contract with GreenField Holdings for Markellm\n\n...<br>Type: contracts",
          "Document: ## Renewal\n1. **Automatic Renewal**: This contract...<br>Type: contracts",
          "Document: ## Features\n1. **AI-Powered Matching**: Access to ...<br>Type: contracts",
          "Document: ## Support\n1. **Customer Support Access**: The Cli...<br>Type: contracts",
          "Document: **Signatures:**  \n_________________________       ...<br>Type: contracts",
          "Document: # Contract with Apex Reinsurance for Rellm: AI-Pow...<br>Type: contracts",
          "Document: ## Renewal\n\n1. **Automatic Renewal**: This Agreeme...<br>Type: contracts",
          "Document: 2. **Seamless Integrations**: The architecture of ...<br>Type: contracts",
          "Document: 1. **Technical Support**: Provider shall offer ded...<br>Type: contracts",
          "Document: **Insurellm, Inc.**  \n____________________________...<br>Type: contracts",
          "Document: # Contract with Greenstone Insurance for Homellm\n\n...<br>Type: contracts",
          "Document: 4. **Payment Terms**: \n   - The Customer shall pay...<br>Type: contracts",
          "Document: ---\n\n## Features\n\n- **AI-Powered Risk Assessment**...<br>Type: contracts",
          "Document: - **Customer Portal**: A dedicated portal will be ...<br>Type: contracts",
          "Document: ______________________________  \n[Name], [Title]  ...<br>Type: contracts",
          "Document: # Contract with Roadway Insurance Inc. for Carllm\n...<br>Type: contracts",
          "Document: ---\n\n## Renewal\n\n1. **Automatic Renewal**: This ag...<br>Type: contracts",
          "Document: ---\n\n## Features\n\n1. **Access to Core Features**: ...<br>Type: contracts",
          "Document: ---\n\n## Support\n\n1. **Technical Support**: Roadway...<br>Type: contracts",
          "Document: # Contract with Stellar Insurance Co. for Rellm\n\n#...<br>Type: contracts",
          "Document: ### Termination\nEither party may terminate this ag...<br>Type: contracts",
          "Document: ## Features\nStellar Insurance Co. will receive acc...<br>Type: contracts",
          "Document: ## Support\nInsurellm provides Stellar Insurance Co...<br>Type: contracts",
          "Document: # Contract with TechDrive Insurance for Carllm\n\n**...<br>Type: contracts",
          "Document: ## Renewal\n\n1. **Automatic Renewal**: This contrac...<br>Type: contracts",
          "Document: ## Support\n\n1. **Customer Support**: Insurellm wil...<br>Type: contracts",
          "Document: **TechDrive Insurance Representative:**  \nName: Sa...<br>Type: contracts",
          "Document: # Contract with Belvedere Insurance for Markellm\n\n...<br>Type: contracts",
          "Document: ## Renewal\n1. **Renewal Terms**: This Agreement ma...<br>Type: contracts",
          "Document: ## Features\n1. **AI-Powered Matching**: Belvedere ...<br>Type: contracts",
          "Document: ## Support\n1. **Technical Support**: Technical sup...<br>Type: contracts",
          "Document: **Belvedere Insurance**  \nSignature: _____________...<br>Type: contracts",
          "Document: # Contract with Velocity Auto Solutions for Carllm...<br>Type: contracts",
          "Document: ## Renewal\n\n1. **Automatic Renewal**: This contrac...<br>Type: contracts",
          "Document: ## Support\n\n1. **Customer Support**: Velocity Auto...<br>Type: contracts",
          "Document: # Contract with GreenValley Insurance for Homellm\n...<br>Type: contracts",
          "Document: 4. **Confidentiality:** Both parties agree to main...<br>Type: contracts",
          "Document: 1. **AI-Powered Risk Assessment:** Access to advan...<br>Type: contracts",
          "Document: 3. **Regular Updates:** Insurellm will offer ongoi...<br>Type: contracts",
          "Document: # Contract with EverGuard Insurance for Rellm: AI-...<br>Type: contracts",
          "Document: 4. **Usage Rights**: EverGuard Insurance is grante...<br>Type: contracts",
          "Document: 1. **Core Functionality**: Rellm provides EverGuar...<br>Type: contracts",
          "Document: 1. **Customer Support**: Insurellm will provide Ev...<br>Type: contracts",
          "Document: ---\n\n**Signatures**  \n**For Insurellm**: _________...<br>Type: contracts",
          "Document: # Contract with BrightWay Solutions for Markellm\n\n...<br>Type: contracts",
          "Document: 3. **Service Level Agreement (SLA):**  \n   Insurel...<br>Type: contracts",
          "Document: 2. **Real-Time Quote Availability:**  \n   Consumer...<br>Type: contracts",
          "Document: 3. **Training and Onboarding:**  \n   Insurellm agr...<br>Type: contracts",
          "Document: # Contract with Pinnacle Insurance Co. for Homellm...<br>Type: contracts",
          "Document: ## Renewal\n1. **Renewal Terms**: At the end of the...<br>Type: contracts",
          "Document: ## Features\n1. **AI-Powered Risk Assessment**: Uti...<br>Type: contracts",
          "Document: ## Support\n1. **Technical Support**: Insurellm sha...<br>Type: contracts",
          "Document: # Overview of Insurellm\n\nInsurellm is an innovativ...<br>Type: company",
          "Document: # Careers at Insurellm\n\nInsurellm is hiring! We ar...<br>Type: company",
          "Document: # About Insurellm\n\nInsurellm was founded by Avery ...<br>Type: company",
          "Document: # HR Record\n\n# Alex Chen\n\n## Summary\n- **Date of B...<br>Type: employees",
          "Document: ## Annual Performance History\n- **2020:**  \n  - Co...<br>Type: employees",
          "Document: ## Compensation History\n- **2020:** Base Salary: $...<br>Type: employees",
          "Document: Alex Chen continues to be a vital asset at Insurel...<br>Type: employees",
          "Document: # HR Record\n\n# Oliver Spencer\n\n## Summary\n- **Date...<br>Type: employees",
          "Document: ## Annual Performance History\n- **2018**: **3/5** ...<br>Type: employees",
          "Document: ## Compensation History\n- **March 2018**: Initial ...<br>Type: employees",
          "Document: # HR Record\n\n# Emily Tran\n\n## Summary\n- **Date of ...<br>Type: employees",
          "Document: - **January 2017 - May 2018**: Marketing Intern  \n...<br>Type: employees",
          "Document: - **2021**:  \n  - Performance Rating: Meets Expect...<br>Type: employees",
          "Document: - **Professional Development Goals**:  \n  - Emily ...<br>Type: employees",
          "Document: # HR Record\n\n# Jordan Blake\n\n## Summary\n- **Date o...<br>Type: employees",
          "Document: ## Annual Performance History\n- **2021:** First ye...<br>Type: employees",
          "Document: ## Other HR Notes\n- Jordan has shown an interest i...<br>Type: employees",
          "Document: # Avery Lancaster\n\n## Summary\n- **Date of Birth**:...<br>Type: employees",
          "Document: - **2010 - 2013**: Business Analyst at Edge Analyt...<br>Type: employees",
          "Document: - **2018**: **Exceeds Expectations**  \n  Under Ave...<br>Type: employees",
          "Document: - **2022**: **Satisfactory**  \n  Avery focused on ...<br>Type: employees",
          "Document: ## Compensation History\n- **2015**: $150,000 base ...<br>Type: employees",
          "Document: ## Other HR Notes\n- **Professional Development**: ...<br>Type: employees",
          "Document: # HR Record\n\n# Maxine Thompson\n\n## Summary\n- **Dat...<br>Type: employees",
          "Document: ## Insurellm Career Progression\n- **January 2017 -...<br>Type: employees",
          "Document: ## Annual Performance History\n- **2017**: *Meets E...<br>Type: employees",
          "Document: - **2021**: *Exceeds Expectations*  \n  Maxine spea...<br>Type: employees",
          "Document: ## Compensation History\n- **2017**: $70,000 (Junio...<br>Type: employees",
          "Document: # Samantha Greene\n\n## Summary\n- **Date of Birth:**...<br>Type: employees",
          "Document: ## Annual Performance History\n- **2020:** Exceeds ...<br>Type: employees",
          "Document: ## Compensation History\n- **2020:** Base Salary - ...<br>Type: employees",
          "Document: - **2023:** Base Salary - $70,000  \n  Recognized f...<br>Type: employees",
          "Document: # HR Record\n\n# Alex Thomson\n\n## Summary\n- **Date o...<br>Type: employees",
          "Document: ## Annual Performance History  \n- **2022** - Rated...<br>Type: employees",
          "Document: ## Other HR Notes\n- Alex Thomson is an active memb...<br>Type: employees",
          "Document: # HR Record\n\n# Samuel Trenton\n\n## Summary\n- **Date...<br>Type: employees",
          "Document: ## Annual Performance History\n- **2023:** Rating: ...<br>Type: employees",
          "Document: ## Compensation History\n- **2023:** Base Salary: $...<br>Type: employees",
          "Document: - **Engagement in Company Culture:** Regularly par...<br>Type: employees",
          "Document: # HR Record\n\n# Alex Harper\n\n## Summary\n- **Date of...<br>Type: employees",
          "Document: ## Annual Performance History  \n- **2021**:  \n  - ...<br>Type: employees",
          "Document: - **2022**:  \n  - **Base Salary**: $65,000 (Promot...<br>Type: employees",
          "Document: # HR Record\n\n# Jordan K. Bishop\n\n## Summary\n- **Da...<br>Type: employees",
          "Document: ## Annual Performance History\n- **2019:** Exceeds ...<br>Type: employees",
          "Document: ## Compensation History\n- **June 2018:** Starting ...<br>Type: employees",
          "Document: ## Other HR Notes\n- Jordan K. Bishop has been an i...<br>Type: employees",
          "Document: # HR Record\n\n# Emily Carter\n\n## Summary\n- **Date o...<br>Type: employees",
          "Document: - **2017-2019:** Marketing Intern  \n  - Assisted w...<br>Type: employees",
          "Document: ## Compensation History\n| Year | Base Salary | Bon...<br>Type: employees",
          "Document: Emily Carter exemplifies the kind of talent that d...<br>Type: employees"
         ],
         "type": "scatter3d",
         "x": [
          -1.5430003,
          -21.941412,
          5.973016,
          -38.240917,
          -9.564285,
          34.699722,
          46.705494,
          34.32282,
          39.999157,
          -51.75499,
          -44.88263,
          77.839096,
          91.974815,
          78.93843,
          77.59374,
          -32.65537,
          16.830893,
          -3.1574852,
          -8.534701,
          -45.040733,
          -48.71914,
          56.455547,
          51.060165,
          -55.419292,
          56.54255,
          -69.9062,
          -3.3038564,
          15.777493,
          -4.350528,
          8.640558,
          -50.717026,
          -68.2835,
          81.35279,
          67.54161,
          -26.589106,
          -82.47488,
          -31.750225,
          26.665878,
          44.26842,
          -45.02836,
          25.689533,
          33.39669,
          -25.302374,
          -72.34756,
          10.799782,
          27.20369,
          -5.3022637,
          4.0879726,
          67.035835,
          57.788242,
          64.250534,
          4.150966,
          -61.29165,
          -9.503476,
          -31.378069,
          -25.549854,
          -42.272484,
          6.5438666,
          51.01972,
          -39.67871,
          -3.9558418,
          11.12474,
          -12.307792,
          -10.861039,
          -24.498077,
          42.887127,
          47.602615,
          40.158966,
          25.679401,
          77.49743,
          59.540905,
          -21.757298,
          -12.292676,
          -89.752975,
          6.749594,
          -11.894714,
          57.887104,
          -62.516586,
          -32.796043,
          6.2396927,
          45.57619,
          -85.09471,
          -50.075333,
          0.36383536,
          -21.500647,
          -29.397972,
          -13.864771,
          34.81041,
          -35.771584,
          39.985058,
          -24.091234,
          -48.80679,
          -64.91678,
          -45.138203,
          -18.034767,
          -23.892212,
          41.263077,
          26.394043,
          -87.07203,
          -73.27619,
          4.1415515,
          -76.76626,
          -82.37991,
          -51.33044,
          -61.753925,
          18.434525,
          -63.508537,
          20.007473,
          26.999773,
          -91.29925,
          -16.179724,
          19.838898,
          41.43746,
          -27.532022,
          0.7170322,
          59.37849,
          -80.64295,
          -28.830853,
          61.01494,
          16.791456,
          -49.062458,
          -10.477907,
          -0.38541487
         ],
         "y": [
          -48.554516,
          -55.83335,
          -71.69324,
          -41.658546,
          -70.33766,
          86.0381,
          -83.32486,
          -64.49631,
          -64.98276,
          -41.012203,
          -81.481575,
          41.00041,
          23.728195,
          11.419119,
          35.600212,
          -80.98166,
          71.05871,
          68.1207,
          46.83489,
          15.85677,
          -12.664277,
          -44.31758,
          -24.54822,
          -10.352563,
          -74.484436,
          53.210587,
          2.1206186,
          -23.778704,
          -47.217648,
          21.323046,
          47.643772,
          -32.36306,
          -17.297699,
          45.317516,
          28.03129,
          33.260307,
          31.509344,
          -6.0506444,
          24.088373,
          -5.95234,
          24.846579,
          1.6188402,
          -26.210606,
          -33.4266,
          70.29078,
          53.197643,
          -29.486425,
          62.906532,
          -39.314663,
          -13.989242,
          -55.189095,
          24.086506,
          22.795101,
          80.63366,
          -1.1671206,
          75.21871,
          64.45361,
          33.602722,
          50.528046,
          53.568268,
          7.010325,
          -13.754444,
          -22.494175,
          -4.3146176,
          10.455651,
          -24.073357,
          -10.260512,
          -35.656376,
          -7.7624106,
          -5.5567427,
          -1.582106,
          -12.844264,
          38.63535,
          62.91613,
          -56.543556,
          -43.24393,
          22.588703,
          -6.8528285,
          37.27367,
          -71.3853,
          39.128628,
          -7.285703,
          43.546112,
          -12.438047,
          -26.414421,
          6.0485163,
          -12.207012,
          -3.306055,
          18.9296,
          -33.237125,
          -28.707954,
          -42.860126,
          -62.1686,
          -71.864334,
          43.40247,
          -49.53718,
          39.123734,
          66.67786,
          -32.76302,
          -46.47178,
          61.707626,
          50.62088,
          21.082697,
          66.36226,
          43.101833,
          0.55599606,
          11.419192,
          -23.706656,
          24.716461,
          81.07358,
          57.179863,
          -56.768337,
          5.6622267,
          41.519676,
          34.169456,
          2.5535383,
          -8.458077,
          68.811935,
          -23.394344,
          2.1137366,
          -24.964567,
          24.325903,
          -51.566994
         ],
         "z": [
          -46.74761,
          -68.38239,
          -65.53977,
          -41.686108,
          -28.83161,
          10.725352,
          -44.5134,
          -33.856136,
          -8.817868,
          -14.820106,
          -41.645763,
          -0.075001605,
          -17.04957,
          -44.01102,
          -55.866383,
          -13.885016,
          -67.73121,
          -80.90005,
          -60.49155,
          -57.65693,
          -44.022423,
          20.094856,
          -84.44354,
          -92.70906,
          8.097224,
          -18.381554,
          -76.93041,
          -68.97409,
          -84.772545,
          -26.249474,
          -2.191184,
          181.83331,
          -61.108654,
          -25.240883,
          -31.09399,
          -23.477087,
          -86.20281,
          -101.33347,
          -24.707096,
          -12.9641075,
          -60.779446,
          -67.865685,
          -68.63959,
          -45.744328,
          -22.519344,
          -38.46822,
          105.51202,
          7.1124096,
          -5.7678714,
          -109.030876,
          -37.782516,
          -1.3476908,
          -6.340598,
          -37.398884,
          111.55663,
          -10.454228,
          -68.49018,
          -90.6592,
          -3.5958707,
          -39.868557,
          -51.865135,
          -44.80145,
          -41.32473,
          -20.917168,
          4.1702023,
          -6.5985327,
          -34.05056,
          -32.928886,
          -4.84053,
          6.54068,
          -89.112114,
          -108.82767,
          -13.501898,
          -223.91351,
          7.4762487,
          -7.032627,
          56.45683,
          39.919224,
          66.712204,
          36.632668,
          43.23603,
          52.027596,
          83.40006,
          69.581276,
          66.99269,
          75.34789,
          48.318398,
          59.10069,
          45.73261,
          60.31406,
          18.2941,
          39.29161,
          43.793633,
          46.09632,
          93.961105,
          27.116224,
          86.96307,
          61.672134,
          36.299828,
          18.783487,
          75.59247,
          31.943932,
          34.689198,
          49.635845,
          51.15737,
          37.765873,
          75.48108,
          34.202644,
          61.623703,
          37.38684,
          56.070625,
          85.65034,
          33.758617,
          33.52191,
          38.212303,
          74.8629,
          21.572073,
          80.53249,
          70.860634,
          84.045616,
          70.37284,
          69.15504,
          52.882763
         ]
        }
       ],
       "layout": {
        "height": 600,
        "margin": {
         "b": 10,
         "l": 10,
         "r": 20,
         "t": 40
        },
        "scene": {
         "xaxis": {
          "title": {
           "text": "x"
          }
         },
         "yaxis": {
          "title": {
           "text": "y"
          }
         },
         "zaxis": {
          "title": {
           "text": "z"
          }
         }
        },
        "template": {
         "data": {
          "bar": [
           {
            "error_x": {
             "color": "#2a3f5f"
            },
            "error_y": {
             "color": "#2a3f5f"
            },
            "marker": {
             "line": {
              "color": "#E5ECF6",
              "width": 0.5
             },
             "pattern": {
              "fillmode": "overlay",
              "size": 10,
              "solidity": 0.2
             }
            },
            "type": "bar"
           }
          ],
          "barpolar": [
           {
            "marker": {
             "line": {
              "color": "#E5ECF6",
              "width": 0.5
             },
             "pattern": {
              "fillmode": "overlay",
              "size": 10,
              "solidity": 0.2
             }
            },
            "type": "barpolar"
           }
          ],
          "carpet": [
           {
            "aaxis": {
             "endlinecolor": "#2a3f5f",
             "gridcolor": "white",
             "linecolor": "white",
             "minorgridcolor": "white",
             "startlinecolor": "#2a3f5f"
            },
            "baxis": {
             "endlinecolor": "#2a3f5f",
             "gridcolor": "white",
             "linecolor": "white",
             "minorgridcolor": "white",
             "startlinecolor": "#2a3f5f"
            },
            "type": "carpet"
           }
          ],
          "choropleth": [
           {
            "colorbar": {
             "outlinewidth": 0,
             "ticks": ""
            },
            "type": "choropleth"
           }
          ],
          "contour": [
           {
            "colorbar": {
             "outlinewidth": 0,
             "ticks": ""
            },
            "colorscale": [
             [
              0,
              "#0d0887"
             ],
             [
              0.1111111111111111,
              "#46039f"
             ],
             [
              0.2222222222222222,
              "#7201a8"
             ],
             [
              0.3333333333333333,
              "#9c179e"
             ],
             [
              0.4444444444444444,
              "#bd3786"
             ],
             [
              0.5555555555555556,
              "#d8576b"
             ],
             [
              0.6666666666666666,
              "#ed7953"
             ],
             [
              0.7777777777777778,
              "#fb9f3a"
             ],
             [
              0.8888888888888888,
              "#fdca26"
             ],
             [
              1,
              "#f0f921"
             ]
            ],
            "type": "contour"
           }
          ],
          "contourcarpet": [
           {
            "colorbar": {
             "outlinewidth": 0,
             "ticks": ""
            },
            "type": "contourcarpet"
           }
          ],
          "heatmap": [
           {
            "colorbar": {
             "outlinewidth": 0,
             "ticks": ""
            },
            "colorscale": [
             [
              0,
              "#0d0887"
             ],
             [
              0.1111111111111111,
              "#46039f"
             ],
             [
              0.2222222222222222,
              "#7201a8"
             ],
             [
              0.3333333333333333,
              "#9c179e"
             ],
             [
              0.4444444444444444,
              "#bd3786"
             ],
             [
              0.5555555555555556,
              "#d8576b"
             ],
             [
              0.6666666666666666,
              "#ed7953"
             ],
             [
              0.7777777777777778,
              "#fb9f3a"
             ],
             [
              0.8888888888888888,
              "#fdca26"
             ],
             [
              1,
              "#f0f921"
             ]
            ],
            "type": "heatmap"
           }
          ],
          "heatmapgl": [
           {
            "colorbar": {
             "outlinewidth": 0,
             "ticks": ""
            },
            "colorscale": [
             [
              0,
              "#0d0887"
             ],
             [
              0.1111111111111111,
              "#46039f"
             ],
             [
              0.2222222222222222,
              "#7201a8"
             ],
             [
              0.3333333333333333,
              "#9c179e"
             ],
             [
              0.4444444444444444,
              "#bd3786"
             ],
             [
              0.5555555555555556,
              "#d8576b"
             ],
             [
              0.6666666666666666,
              "#ed7953"
             ],
             [
              0.7777777777777778,
              "#fb9f3a"
             ],
             [
              0.8888888888888888,
              "#fdca26"
             ],
             [
              1,
              "#f0f921"
             ]
            ],
            "type": "heatmapgl"
           }
          ],
          "histogram": [
           {
            "marker": {
             "pattern": {
              "fillmode": "overlay",
              "size": 10,
              "solidity": 0.2
             }
            },
            "type": "histogram"
           }
          ],
          "histogram2d": [
           {
            "colorbar": {
             "outlinewidth": 0,
             "ticks": ""
            },
            "colorscale": [
             [
              0,
              "#0d0887"
             ],
             [
              0.1111111111111111,
              "#46039f"
             ],
             [
              0.2222222222222222,
              "#7201a8"
             ],
             [
              0.3333333333333333,
              "#9c179e"
             ],
             [
              0.4444444444444444,
              "#bd3786"
             ],
             [
              0.5555555555555556,
              "#d8576b"
             ],
             [
              0.6666666666666666,
              "#ed7953"
             ],
             [
              0.7777777777777778,
              "#fb9f3a"
             ],
             [
              0.8888888888888888,
              "#fdca26"
             ],
             [
              1,
              "#f0f921"
             ]
            ],
            "type": "histogram2d"
           }
          ],
          "histogram2dcontour": [
           {
            "colorbar": {
             "outlinewidth": 0,
             "ticks": ""
            },
            "colorscale": [
             [
              0,
              "#0d0887"
             ],
             [
              0.1111111111111111,
              "#46039f"
             ],
             [
              0.2222222222222222,
              "#7201a8"
             ],
             [
              0.3333333333333333,
              "#9c179e"
             ],
             [
              0.4444444444444444,
              "#bd3786"
             ],
             [
              0.5555555555555556,
              "#d8576b"
             ],
             [
              0.6666666666666666,
              "#ed7953"
             ],
             [
              0.7777777777777778,
              "#fb9f3a"
             ],
             [
              0.8888888888888888,
              "#fdca26"
             ],
             [
              1,
              "#f0f921"
             ]
            ],
            "type": "histogram2dcontour"
           }
          ],
          "mesh3d": [
           {
            "colorbar": {
             "outlinewidth": 0,
             "ticks": ""
            },
            "type": "mesh3d"
           }
          ],
          "parcoords": [
           {
            "line": {
             "colorbar": {
              "outlinewidth": 0,
              "ticks": ""
             }
            },
            "type": "parcoords"
           }
          ],
          "pie": [
           {
            "automargin": true,
            "type": "pie"
           }
          ],
          "scatter": [
           {
            "fillpattern": {
             "fillmode": "overlay",
             "size": 10,
             "solidity": 0.2
            },
            "type": "scatter"
           }
          ],
          "scatter3d": [
           {
            "line": {
             "colorbar": {
              "outlinewidth": 0,
              "ticks": ""
             }
            },
            "marker": {
             "colorbar": {
              "outlinewidth": 0,
              "ticks": ""
             }
            },
            "type": "scatter3d"
           }
          ],
          "scattercarpet": [
           {
            "marker": {
             "colorbar": {
              "outlinewidth": 0,
              "ticks": ""
             }
            },
            "type": "scattercarpet"
           }
          ],
          "scattergeo": [
           {
            "marker": {
             "colorbar": {
              "outlinewidth": 0,
              "ticks": ""
             }
            },
            "type": "scattergeo"
           }
          ],
          "scattergl": [
           {
            "marker": {
             "colorbar": {
              "outlinewidth": 0,
              "ticks": ""
             }
            },
            "type": "scattergl"
           }
          ],
          "scattermapbox": [
           {
            "marker": {
             "colorbar": {
              "outlinewidth": 0,
              "ticks": ""
             }
            },
            "type": "scattermapbox"
           }
          ],
          "scatterpolar": [
           {
            "marker": {
             "colorbar": {
              "outlinewidth": 0,
              "ticks": ""
             }
            },
            "type": "scatterpolar"
           }
          ],
          "scatterpolargl": [
           {
            "marker": {
             "colorbar": {
              "outlinewidth": 0,
              "ticks": ""
             }
            },
            "type": "scatterpolargl"
           }
          ],
          "scatterternary": [
           {
            "marker": {
             "colorbar": {
              "outlinewidth": 0,
              "ticks": ""
             }
            },
            "type": "scatterternary"
           }
          ],
          "surface": [
           {
            "colorbar": {
             "outlinewidth": 0,
             "ticks": ""
            },
            "colorscale": [
             [
              0,
              "#0d0887"
             ],
             [
              0.1111111111111111,
              "#46039f"
             ],
             [
              0.2222222222222222,
              "#7201a8"
             ],
             [
              0.3333333333333333,
              "#9c179e"
             ],
             [
              0.4444444444444444,
              "#bd3786"
             ],
             [
              0.5555555555555556,
              "#d8576b"
             ],
             [
              0.6666666666666666,
              "#ed7953"
             ],
             [
              0.7777777777777778,
              "#fb9f3a"
             ],
             [
              0.8888888888888888,
              "#fdca26"
             ],
             [
              1,
              "#f0f921"
             ]
            ],
            "type": "surface"
           }
          ],
          "table": [
           {
            "cells": {
             "fill": {
              "color": "#EBF0F8"
             },
             "line": {
              "color": "white"
             }
            },
            "header": {
             "fill": {
              "color": "#C8D4E3"
             },
             "line": {
              "color": "white"
             }
            },
            "type": "table"
           }
          ]
         },
         "layout": {
          "annotationdefaults": {
           "arrowcolor": "#2a3f5f",
           "arrowhead": 0,
           "arrowwidth": 1
          },
          "autotypenumbers": "strict",
          "coloraxis": {
           "colorbar": {
            "outlinewidth": 0,
            "ticks": ""
           }
          },
          "colorscale": {
           "diverging": [
            [
             0,
             "#8e0152"
            ],
            [
             0.1,
             "#c51b7d"
            ],
            [
             0.2,
             "#de77ae"
            ],
            [
             0.3,
             "#f1b6da"
            ],
            [
             0.4,
             "#fde0ef"
            ],
            [
             0.5,
             "#f7f7f7"
            ],
            [
             0.6,
             "#e6f5d0"
            ],
            [
             0.7,
             "#b8e186"
            ],
            [
             0.8,
             "#7fbc41"
            ],
            [
             0.9,
             "#4d9221"
            ],
            [
             1,
             "#276419"
            ]
           ],
           "sequential": [
            [
             0,
             "#0d0887"
            ],
            [
             0.1111111111111111,
             "#46039f"
            ],
            [
             0.2222222222222222,
             "#7201a8"
            ],
            [
             0.3333333333333333,
             "#9c179e"
            ],
            [
             0.4444444444444444,
             "#bd3786"
            ],
            [
             0.5555555555555556,
             "#d8576b"
            ],
            [
             0.6666666666666666,
             "#ed7953"
            ],
            [
             0.7777777777777778,
             "#fb9f3a"
            ],
            [
             0.8888888888888888,
             "#fdca26"
            ],
            [
             1,
             "#f0f921"
            ]
           ],
           "sequentialminus": [
            [
             0,
             "#0d0887"
            ],
            [
             0.1111111111111111,
             "#46039f"
            ],
            [
             0.2222222222222222,
             "#7201a8"
            ],
            [
             0.3333333333333333,
             "#9c179e"
            ],
            [
             0.4444444444444444,
             "#bd3786"
            ],
            [
             0.5555555555555556,
             "#d8576b"
            ],
            [
             0.6666666666666666,
             "#ed7953"
            ],
            [
             0.7777777777777778,
             "#fb9f3a"
            ],
            [
             0.8888888888888888,
             "#fdca26"
            ],
            [
             1,
             "#f0f921"
            ]
           ]
          },
          "colorway": [
           "#636efa",
           "#EF553B",
           "#00cc96",
           "#ab63fa",
           "#FFA15A",
           "#19d3f3",
           "#FF6692",
           "#B6E880",
           "#FF97FF",
           "#FECB52"
          ],
          "font": {
           "color": "#2a3f5f"
          },
          "geo": {
           "bgcolor": "white",
           "lakecolor": "white",
           "landcolor": "#E5ECF6",
           "showlakes": true,
           "showland": true,
           "subunitcolor": "white"
          },
          "hoverlabel": {
           "align": "left"
          },
          "hovermode": "closest",
          "mapbox": {
           "style": "light"
          },
          "paper_bgcolor": "white",
          "plot_bgcolor": "#E5ECF6",
          "polar": {
           "angularaxis": {
            "gridcolor": "white",
            "linecolor": "white",
            "ticks": ""
           },
           "bgcolor": "#E5ECF6",
           "radialaxis": {
            "gridcolor": "white",
            "linecolor": "white",
            "ticks": ""
           }
          },
          "scene": {
           "xaxis": {
            "backgroundcolor": "#E5ECF6",
            "gridcolor": "white",
            "gridwidth": 2,
            "linecolor": "white",
            "showbackground": true,
            "ticks": "",
            "zerolinecolor": "white"
           },
           "yaxis": {
            "backgroundcolor": "#E5ECF6",
            "gridcolor": "white",
            "gridwidth": 2,
            "linecolor": "white",
            "showbackground": true,
            "ticks": "",
            "zerolinecolor": "white"
           },
           "zaxis": {
            "backgroundcolor": "#E5ECF6",
            "gridcolor": "white",
            "gridwidth": 2,
            "linecolor": "white",
            "showbackground": true,
            "ticks": "",
            "zerolinecolor": "white"
           }
          },
          "shapedefaults": {
           "line": {
            "color": "#2a3f5f"
           }
          },
          "ternary": {
           "aaxis": {
            "gridcolor": "white",
            "linecolor": "white",
            "ticks": ""
           },
           "baxis": {
            "gridcolor": "white",
            "linecolor": "white",
            "ticks": ""
           },
           "bgcolor": "#E5ECF6",
           "caxis": {
            "gridcolor": "white",
            "linecolor": "white",
            "ticks": ""
           }
          },
          "title": {
           "x": 0.05
          },
          "xaxis": {
           "automargin": true,
           "gridcolor": "white",
           "linecolor": "white",
           "ticks": "",
           "title": {
            "standoff": 15
           },
           "zerolinecolor": "white",
           "zerolinewidth": 2
          },
          "yaxis": {
           "automargin": true,
           "gridcolor": "white",
           "linecolor": "white",
           "ticks": "",
           "title": {
            "standoff": 15
           },
           "zerolinecolor": "white",
           "zerolinewidth": 2
          }
         }
        },
        "title": {
         "text": "3D t-SNE Visualization of Vector Store"
        },
        "width": 800
       }
      }
     },
     "metadata": {},
     "output_type": "display_data"
    }
   ],
   "source": [
    "# 2D t-SNE visualization of vector store\n",
    "# Reduce the dimensionality of the vectors to 2D using t-SNE\n",
    "# Note: t-SNE is computationally expensive and may take a while for large datasets\n",
    "\n",
    "tsne = TSNE(n_components=3, random_state=42)\n",
    "reduced_vectors = tsne.fit_transform(vectors)\n",
    "\n",
    "# Create 2D scatter plot\n",
    "fig = go.Figure(data=[go.Scatter3d(\n",
    "    x=reduced_vectors[:, 0],\n",
    "    y=reduced_vectors[:, 1],\n",
    "    z=reduced_vectors[:, 2],\n",
    "    mode='markers',\n",
    "    marker=dict(size=10, color=colors, opacity=0.8),\n",
    "    text=[\n",
    "        f\"Document: {doc[:50]}...<br>Type: {metadata['doc_type']}\"\n",
    "        for doc, metadata in zip(documents, result['metadatas'])\n",
    "    ],\n",
    "    hoverinfo='text',\n",
    ")])\n",
    "\n",
    "fig.update_layout(\n",
    "    title='3D t-SNE Visualization of Vector Store',\n",
    "    scene=dict(\n",
    "        xaxis_title='x',\n",
    "        yaxis_title='y',\n",
    "        zaxis_title='z',\n",
    "    ),\n",
    "    width=800,\n",
    "    height=600,\n",
    "    margin=dict(l=10, r=20, t=40, b=10),\n",
    ")\n",
    "\n",
    "fig.show()"
   ]
  }
 ],
 "metadata": {
  "kernelspec": {
   "display_name": "venv",
   "language": "python",
   "name": "python3"
  },
  "language_info": {
   "codemirror_mode": {
    "name": "ipython",
    "version": 3
   },
   "file_extension": ".py",
   "mimetype": "text/x-python",
   "name": "python",
   "nbconvert_exporter": "python",
   "pygments_lexer": "ipython3",
   "version": "3.12.7"
  }
 },
 "nbformat": 4,
 "nbformat_minor": 2
}
