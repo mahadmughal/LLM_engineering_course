{
 "cells": [
  {
   "cell_type": "markdown",
   "metadata": {},
   "source": [
    "Export Knowledge Worker\n",
    "\n",
    "A question answering agent that is specialized in answering questions based on the knowledge base(text, files etc.) provided to it."
   ]
  },
  {
   "cell_type": "code",
   "execution_count": 162,
   "metadata": {},
   "outputs": [],
   "source": [
    "import os\n",
    "import glob\n",
    "from dotenv import load_dotenv\n",
    "import gradio as gr"
   ]
  },
  {
   "cell_type": "code",
   "execution_count": 163,
   "metadata": {},
   "outputs": [],
   "source": [
    "# import from langchain\n",
    "from langchain.document_loaders import TextLoader, DirectoryLoader\n",
    "from langchain.text_splitter import CharacterTextSplitter\n",
    "from langchain.embeddings import OpenAIEmbeddings\n",
    "from langchain_openai import ChatOpenAI\n",
    "from langchain.vectorstores import Chroma\n",
    "from langchain.schema import Document\n",
    "from langchain.memory import ConversationBufferMemory\n",
    "from langchain.chains import ConversationalRetrievalChain\n",
    "import numpy as np\n",
    "from sklearn.manifold import TSNE\n",
    "import plotly.graph_objects as go"
   ]
  },
  {
   "cell_type": "code",
   "execution_count": 164,
   "metadata": {},
   "outputs": [],
   "source": [
    "MODEL = 'gpt-4o-mini'\n",
    "db_name = 'vector_db'"
   ]
  },
  {
   "cell_type": "code",
   "execution_count": 165,
   "metadata": {},
   "outputs": [],
   "source": [
    "load_dotenv(override=True)\n",
    "\n",
    "# Load environment variables from .env file\n",
    "os.environ[\"OPENAI_API_KEY\"] = os.getenv(\"OPENAI_API_KEY\")"
   ]
  },
  {
   "cell_type": "code",
   "execution_count": 166,
   "metadata": {},
   "outputs": [
    {
     "data": {
      "text/plain": [
       "Document(metadata={'source': 'knowledge-base/products/Rellm.md', 'doc_type': 'products'}, page_content=\"# Product Summary\\n\\n# Rellm: AI-Powered Enterprise Reinsurance Solution\\n\\n## Summary\\n\\nRellm is an innovative enterprise reinsurance product developed by Insurellm, designed to transform the way reinsurance companies operate. Harnessing the power of artificial intelligence, Rellm offers an advanced platform that redefines risk management, enhances decision-making processes, and optimizes operational efficiencies within the reinsurance industry. With seamless integrations and robust analytics, Rellm enables insurers to proactively manage their portfolios and respond to market dynamics with agility.\\n\\n## Features\\n\\n### AI-Driven Analytics\\nRellm utilizes cutting-edge AI algorithms to provide predictive insights into risk exposures, enabling users to forecast trends and make informed decisions. Its real-time data analysis empowers reinsurance professionals with actionable intelligence.\\n\\n### Seamless Integrations\\nRellm's architecture is designed for effortless integration with existing systems. Whether it's policy management, claims processing, or financial reporting, Rellm connects seamlessly with diverse data sources to create a unified ecosystem.\\n\\n### Risk Assessment Module\\nThe comprehensive risk assessment module within Rellm allows insurers to evaluate risk profiles accurately. By leveraging historical data and advanced modeling techniques, Rellm provides a clear picture of potential liabilities and expected outcomes.\\n\\n### Customizable Dashboard\\nRellm features a customizable dashboard that presents key metrics and performance indicators in an intuitive interface. Users can tailor their view to focus on what matters most to their business, enhancing user experience and productivity.\\n\\n### Regulatory Compliance Tools\\nRellm includes built-in compliance tracking features to help organizations meet local and international regulatory standards. This ensures that reinsurance practices remain transparent and accountable.\\n\\n### Client and Broker Portals\\nRellm offers dedicated portals for both clients and brokers, facilitating real-time communication and documentation sharing. This strengthens partnerships and drives operational excellence across the board.\\n\\n## Pricing\\n\\nInsurellm offers flexible pricing plans for Rellm to cater to various business needs:\\n\\n- **Basic Plan**: $5,000/month\\n  - Includes access to core features and standard integrations.\\n  \\n- **Professional Plan**: $10,000/month\\n  - Includes all features, advanced integrations, and priority customer support.\\n  \\n- **Enterprise Plan**: Custom pricing\\n  - Tailored solutions with personalized features, extensive integrations, and dedicated account management.\\n\\nJoin the growing number of organizations leveraging Rellm to enhance their reinsurance processes while driving profitability and compliance. \\n\\n## 2025-2026 Roadmap\\n\\nAt Insurellm, we are committed to the continuous improvement of Rellm. Our roadmap for 2025-2026 includes:\\n\\n- **Q3 2025**: \\n  - Launch of the Rellm Mobile App for on-the-go insights and management.\\n  - Introduction of augmented reality (AR) features for interactive risk assessments.\\n\\n- **Q1 2026**: \\n  - Deployment of advanced machine learning models for even more accurate risk predictions.\\n  - Expansion of integration capabilities to support emerging technologies in the insurance sector.\\n\\n- **Q3 2026**: \\n  - Release of a community platform for Rellm users to exchange insights, tips, and best practices.\\n  - Launch of Rellm 2.0, featuring enhanced user interface and premium features based on user feedback.\\n\\nExperience the future of reinsurance with Rellm, where innovation meets reliability. Let Insurellm help you navigate the complexities of the reinsurance market smarter and faster.\")"
      ]
     },
     "execution_count": 166,
     "metadata": {},
     "output_type": "execute_result"
    }
   ],
   "source": [
    "# read in documents using Langchain loaders\n",
    "\n",
    "folders = glob.glob('knowledge-base/*')\n",
    "\n",
    "documents = []\n",
    "\n",
    "for folder in folders:\n",
    "    doc_type = folder.split('/')[-1]\n",
    "    loader = DirectoryLoader(folder, glob='**/*.md', loader_cls=TextLoader)\n",
    "    folder_docs = loader.load()\n",
    "    for doc in folder_docs:\n",
    "        doc.metadata['doc_type'] = doc_type\n",
    "        documents.append(doc)\n",
    "        \n",
    "len(documents)\n",
    "documents[0]"
   ]
  },
  {
   "cell_type": "code",
   "execution_count": 167,
   "metadata": {},
   "outputs": [
    {
     "name": "stderr",
     "output_type": "stream",
     "text": [
      "Created a chunk of size 1088, which is longer than the specified 1000\n"
     ]
    },
    {
     "data": {
      "text/plain": [
       "Document(metadata={'source': 'knowledge-base/products/Rellm.md', 'doc_type': 'products'}, page_content='# Product Summary\\n\\n# Rellm: AI-Powered Enterprise Reinsurance Solution\\n\\n## Summary\\n\\nRellm is an innovative enterprise reinsurance product developed by Insurellm, designed to transform the way reinsurance companies operate. Harnessing the power of artificial intelligence, Rellm offers an advanced platform that redefines risk management, enhances decision-making processes, and optimizes operational efficiencies within the reinsurance industry. With seamless integrations and robust analytics, Rellm enables insurers to proactively manage their portfolios and respond to market dynamics with agility.\\n\\n## Features\\n\\n### AI-Driven Analytics\\nRellm utilizes cutting-edge AI algorithms to provide predictive insights into risk exposures, enabling users to forecast trends and make informed decisions. Its real-time data analysis empowers reinsurance professionals with actionable intelligence.')"
      ]
     },
     "execution_count": 167,
     "metadata": {},
     "output_type": "execute_result"
    }
   ],
   "source": [
    "text_splitter = CharacterTextSplitter(\n",
    "    chunk_size=1000,\n",
    "    chunk_overlap=200)\n",
    "\n",
    "chunks = text_splitter.split_documents(documents)\n",
    "\n",
    "len(chunks)\n",
    "chunks[0]"
   ]
  },
  {
   "cell_type": "code",
   "execution_count": 168,
   "metadata": {},
   "outputs": [
    {
     "name": "stdout",
     "output_type": "stream",
     "text": [
      "Document types: {'company', 'products', 'employees', 'contracts'}\n"
     ]
    }
   ],
   "source": [
    "doc_types = set(chunk.metadata['doc_type'] for chunk in chunks)\n",
    "print(f\"Document types: {doc_types}\")"
   ]
  },
  {
   "cell_type": "code",
   "execution_count": 169,
   "metadata": {},
   "outputs": [],
   "source": [
    "embeddings = OpenAIEmbeddings()"
   ]
  },
  {
   "cell_type": "code",
   "execution_count": 170,
   "metadata": {},
   "outputs": [
    {
     "name": "stdout",
     "output_type": "stream",
     "text": [
      "Delete existing vector store from vector_db\n"
     ]
    }
   ],
   "source": [
    "# check if Chroma vector store already exists, if so delete it and start from scratch.\n",
    "\n",
    "if os.path.exists(db_name):\n",
    "    print(f\"Delete existing vector store from {db_name}\")\n",
    "    Chroma(persist_directory=db_name, embedding_function=embeddings).delete_collection()"
   ]
  },
  {
   "cell_type": "code",
   "execution_count": 171,
   "metadata": {},
   "outputs": [
    {
     "name": "stdout",
     "output_type": "stream",
     "text": [
      "Persisting vector store to vector_db\n",
      "Number of documents in vector store: 123\n"
     ]
    }
   ],
   "source": [
    "# Create a new Chroma vector store\n",
    "\n",
    "vectorstore = Chroma.from_documents(\n",
    "    documents=chunks,\n",
    "    embedding=embeddings,\n",
    "    persist_directory=db_name\n",
    ")\n",
    "\n",
    "print(f\"Persisting vector store to {db_name}\")\n",
    "print(f\"Number of documents in vector store: {vectorstore._collection.count()}\")"
   ]
  },
  {
   "cell_type": "code",
   "execution_count": 172,
   "metadata": {},
   "outputs": [
    {
     "name": "stdout",
     "output_type": "stream",
     "text": [
      "Sample embedding has 1536 dimensions\n"
     ]
    }
   ],
   "source": [
    "# Find one vector and see how many dimentions it has ...\n",
    "\n",
    "collection = vectorstore._collection\n",
    "sample_embedding = collection.get(limit=1, include=['embeddings'])['embeddings'][0]\n",
    "dimentions = len(sample_embedding)\n",
    "print(f\"Sample embedding has {dimentions} dimensions\")"
   ]
  },
  {
   "cell_type": "code",
   "execution_count": 173,
   "metadata": {},
   "outputs": [
    {
     "data": {
      "text/plain": [
       "['blue',\n",
       " 'blue',\n",
       " 'blue',\n",
       " 'blue',\n",
       " 'blue',\n",
       " 'blue',\n",
       " 'blue',\n",
       " 'blue',\n",
       " 'blue',\n",
       " 'blue',\n",
       " 'blue',\n",
       " 'blue',\n",
       " 'blue',\n",
       " 'blue',\n",
       " 'blue',\n",
       " 'blue',\n",
       " 'blue',\n",
       " 'blue',\n",
       " 'blue',\n",
       " 'blue',\n",
       " 'blue',\n",
       " 'red',\n",
       " 'red',\n",
       " 'red',\n",
       " 'red',\n",
       " 'red',\n",
       " 'red',\n",
       " 'red',\n",
       " 'red',\n",
       " 'red',\n",
       " 'red',\n",
       " 'red',\n",
       " 'red',\n",
       " 'red',\n",
       " 'red',\n",
       " 'red',\n",
       " 'red',\n",
       " 'red',\n",
       " 'red',\n",
       " 'red',\n",
       " 'red',\n",
       " 'red',\n",
       " 'red',\n",
       " 'red',\n",
       " 'red',\n",
       " 'red',\n",
       " 'red',\n",
       " 'red',\n",
       " 'red',\n",
       " 'red',\n",
       " 'red',\n",
       " 'red',\n",
       " 'red',\n",
       " 'red',\n",
       " 'red',\n",
       " 'red',\n",
       " 'red',\n",
       " 'red',\n",
       " 'red',\n",
       " 'red',\n",
       " 'red',\n",
       " 'red',\n",
       " 'red',\n",
       " 'red',\n",
       " 'red',\n",
       " 'red',\n",
       " 'red',\n",
       " 'red',\n",
       " 'red',\n",
       " 'red',\n",
       " 'red',\n",
       " 'red',\n",
       " 'red',\n",
       " 'orange',\n",
       " 'orange',\n",
       " 'orange',\n",
       " 'green',\n",
       " 'green',\n",
       " 'green',\n",
       " 'green',\n",
       " 'green',\n",
       " 'green',\n",
       " 'green',\n",
       " 'green',\n",
       " 'green',\n",
       " 'green',\n",
       " 'green',\n",
       " 'green',\n",
       " 'green',\n",
       " 'green',\n",
       " 'green',\n",
       " 'green',\n",
       " 'green',\n",
       " 'green',\n",
       " 'green',\n",
       " 'green',\n",
       " 'green',\n",
       " 'green',\n",
       " 'green',\n",
       " 'green',\n",
       " 'green',\n",
       " 'green',\n",
       " 'green',\n",
       " 'green',\n",
       " 'green',\n",
       " 'green',\n",
       " 'green',\n",
       " 'green',\n",
       " 'green',\n",
       " 'green',\n",
       " 'green',\n",
       " 'green',\n",
       " 'green',\n",
       " 'green',\n",
       " 'green',\n",
       " 'green',\n",
       " 'green',\n",
       " 'green',\n",
       " 'green',\n",
       " 'green',\n",
       " 'green',\n",
       " 'green',\n",
       " 'green']"
      ]
     },
     "execution_count": 173,
     "metadata": {},
     "output_type": "execute_result"
    }
   ],
   "source": [
    "result = collection.get(include=['embeddings', 'documents', 'metadatas'])\n",
    "vectors = np.array(result['embeddings'])\n",
    "documents = result['documents']\n",
    "doc_types = (metadata['doc_type'] for metadata in result['metadatas'])\n",
    "colors = [['blue', 'green', 'red', 'orange'][['products', 'employees', 'contracts', 'company'].index(t)] for t in doc_types]\n",
    "colors"
   ]
  },
  {
   "cell_type": "code",
   "execution_count": 174,
   "metadata": {},
   "outputs": [
    {
     "data": {
      "application/vnd.plotly.v1+json": {
       "config": {
        "plotlyServerURL": "https://plot.ly"
       },
       "data": [
        {
         "hoverinfo": "text",
         "marker": {
          "color": [
           "blue",
           "blue",
           "blue",
           "blue",
           "blue",
           "blue",
           "blue",
           "blue",
           "blue",
           "blue",
           "blue",
           "blue",
           "blue",
           "blue",
           "blue",
           "blue",
           "blue",
           "blue",
           "blue",
           "blue",
           "blue",
           "red",
           "red",
           "red",
           "red",
           "red",
           "red",
           "red",
           "red",
           "red",
           "red",
           "red",
           "red",
           "red",
           "red",
           "red",
           "red",
           "red",
           "red",
           "red",
           "red",
           "red",
           "red",
           "red",
           "red",
           "red",
           "red",
           "red",
           "red",
           "red",
           "red",
           "red",
           "red",
           "red",
           "red",
           "red",
           "red",
           "red",
           "red",
           "red",
           "red",
           "red",
           "red",
           "red",
           "red",
           "red",
           "red",
           "red",
           "red",
           "red",
           "red",
           "red",
           "red",
           "orange",
           "orange",
           "orange",
           "green",
           "green",
           "green",
           "green",
           "green",
           "green",
           "green",
           "green",
           "green",
           "green",
           "green",
           "green",
           "green",
           "green",
           "green",
           "green",
           "green",
           "green",
           "green",
           "green",
           "green",
           "green",
           "green",
           "green",
           "green",
           "green",
           "green",
           "green",
           "green",
           "green",
           "green",
           "green",
           "green",
           "green",
           "green",
           "green",
           "green",
           "green",
           "green",
           "green",
           "green",
           "green",
           "green",
           "green",
           "green",
           "green",
           "green"
          ],
          "opacity": 0.8,
          "size": 10
         },
         "mode": "markers",
         "text": [
          "Document: # Product Summary\n\n# Rellm: AI-Powered Enterprise ...<br>Type: products",
          "Document: ### Seamless Integrations\nRellm's architecture is ...<br>Type: products",
          "Document: ### Regulatory Compliance Tools\nRellm includes bui...<br>Type: products",
          "Document: Join the growing number of organizations leveragin...<br>Type: products",
          "Document: Experience the future of reinsurance with Rellm, w...<br>Type: products",
          "Document: # Product Summary\n\n# Markellm\n\n## Summary\n\nMarkell...<br>Type: products",
          "Document: - **User-Friendly Interface**: Designed with user ...<br>Type: products",
          "Document: - **Customer Support**: Our dedicated support team...<br>Type: products",
          "Document: ### For Insurance Companies:\n- **Basic Listing Fee...<br>Type: products",
          "Document: ### Q3 2025\n- Initiate a comprehensive marketing c...<br>Type: products",
          "Document: # Product Summary\n\n# Homellm\n\n## Summary\nHomellm i...<br>Type: products",
          "Document: ### 2. Dynamic Pricing Model\nWith Homellm's innova...<br>Type: products",
          "Document: ### 5. Multi-Channel Integration\nHomellm seamlessl...<br>Type: products",
          "Document: - **Basic Tier:** Starting at $5,000/month for sma...<br>Type: products",
          "Document: All tiers include a comprehensive training program...<br>Type: products",
          "Document: With Homellm, Insurellm is committed to transformi...<br>Type: products",
          "Document: # Product Summary\n\n# Carllm\n\n## Summary\n\nCarllm is...<br>Type: products",
          "Document: - **Instant Quoting**: With Carllm, insurance comp...<br>Type: products",
          "Document: - **Mobile Integration**: Carllm is designed to wo...<br>Type: products",
          "Document: - **Professional Tier**: $2,500/month\n  - For medi...<br>Type: products",
          "Document: ### Q2 2025: Customer Experience Improvements\n- La...<br>Type: products",
          "Document: # Contract with GreenField Holdings for Markellm\n\n...<br>Type: contracts",
          "Document: ## Renewal\n1. **Automatic Renewal**: This contract...<br>Type: contracts",
          "Document: ## Features\n1. **AI-Powered Matching**: Access to ...<br>Type: contracts",
          "Document: ## Support\n1. **Customer Support Access**: The Cli...<br>Type: contracts",
          "Document: **Signatures:**  \n_________________________       ...<br>Type: contracts",
          "Document: # Contract with Apex Reinsurance for Rellm: AI-Pow...<br>Type: contracts",
          "Document: ## Renewal\n\n1. **Automatic Renewal**: This Agreeme...<br>Type: contracts",
          "Document: 2. **Seamless Integrations**: The architecture of ...<br>Type: contracts",
          "Document: 1. **Technical Support**: Provider shall offer ded...<br>Type: contracts",
          "Document: **Insurellm, Inc.**  \n____________________________...<br>Type: contracts",
          "Document: # Contract with Greenstone Insurance for Homellm\n\n...<br>Type: contracts",
          "Document: 4. **Payment Terms**: \n   - The Customer shall pay...<br>Type: contracts",
          "Document: ---\n\n## Features\n\n- **AI-Powered Risk Assessment**...<br>Type: contracts",
          "Document: - **Customer Portal**: A dedicated portal will be ...<br>Type: contracts",
          "Document: ______________________________  \n[Name], [Title]  ...<br>Type: contracts",
          "Document: # Contract with Roadway Insurance Inc. for Carllm\n...<br>Type: contracts",
          "Document: ---\n\n## Renewal\n\n1. **Automatic Renewal**: This ag...<br>Type: contracts",
          "Document: ---\n\n## Features\n\n1. **Access to Core Features**: ...<br>Type: contracts",
          "Document: ---\n\n## Support\n\n1. **Technical Support**: Roadway...<br>Type: contracts",
          "Document: # Contract with Stellar Insurance Co. for Rellm\n\n#...<br>Type: contracts",
          "Document: ### Termination\nEither party may terminate this ag...<br>Type: contracts",
          "Document: ## Features\nStellar Insurance Co. will receive acc...<br>Type: contracts",
          "Document: ## Support\nInsurellm provides Stellar Insurance Co...<br>Type: contracts",
          "Document: # Contract with TechDrive Insurance for Carllm\n\n**...<br>Type: contracts",
          "Document: ## Renewal\n\n1. **Automatic Renewal**: This contrac...<br>Type: contracts",
          "Document: ## Support\n\n1. **Customer Support**: Insurellm wil...<br>Type: contracts",
          "Document: **TechDrive Insurance Representative:**  \nName: Sa...<br>Type: contracts",
          "Document: # Contract with Belvedere Insurance for Markellm\n\n...<br>Type: contracts",
          "Document: ## Renewal\n1. **Renewal Terms**: This Agreement ma...<br>Type: contracts",
          "Document: ## Features\n1. **AI-Powered Matching**: Belvedere ...<br>Type: contracts",
          "Document: ## Support\n1. **Technical Support**: Technical sup...<br>Type: contracts",
          "Document: **Belvedere Insurance**  \nSignature: _____________...<br>Type: contracts",
          "Document: # Contract with Velocity Auto Solutions for Carllm...<br>Type: contracts",
          "Document: ## Renewal\n\n1. **Automatic Renewal**: This contrac...<br>Type: contracts",
          "Document: ## Support\n\n1. **Customer Support**: Velocity Auto...<br>Type: contracts",
          "Document: # Contract with GreenValley Insurance for Homellm\n...<br>Type: contracts",
          "Document: 4. **Confidentiality:** Both parties agree to main...<br>Type: contracts",
          "Document: 1. **AI-Powered Risk Assessment:** Access to advan...<br>Type: contracts",
          "Document: 3. **Regular Updates:** Insurellm will offer ongoi...<br>Type: contracts",
          "Document: # Contract with EverGuard Insurance for Rellm: AI-...<br>Type: contracts",
          "Document: 4. **Usage Rights**: EverGuard Insurance is grante...<br>Type: contracts",
          "Document: 1. **Core Functionality**: Rellm provides EverGuar...<br>Type: contracts",
          "Document: 1. **Customer Support**: Insurellm will provide Ev...<br>Type: contracts",
          "Document: ---\n\n**Signatures**  \n**For Insurellm**: _________...<br>Type: contracts",
          "Document: # Contract with BrightWay Solutions for Markellm\n\n...<br>Type: contracts",
          "Document: 3. **Service Level Agreement (SLA):**  \n   Insurel...<br>Type: contracts",
          "Document: 2. **Real-Time Quote Availability:**  \n   Consumer...<br>Type: contracts",
          "Document: 3. **Training and Onboarding:**  \n   Insurellm agr...<br>Type: contracts",
          "Document: # Contract with Pinnacle Insurance Co. for Homellm...<br>Type: contracts",
          "Document: ## Renewal\n1. **Renewal Terms**: At the end of the...<br>Type: contracts",
          "Document: ## Features\n1. **AI-Powered Risk Assessment**: Uti...<br>Type: contracts",
          "Document: ## Support\n1. **Technical Support**: Insurellm sha...<br>Type: contracts",
          "Document: # Overview of Insurellm\n\nInsurellm is an innovativ...<br>Type: company",
          "Document: # Careers at Insurellm\n\nInsurellm is hiring! We ar...<br>Type: company",
          "Document: # About Insurellm\n\nInsurellm was founded by Avery ...<br>Type: company",
          "Document: # HR Record\n\n# Alex Chen\n\n## Summary\n- **Date of B...<br>Type: employees",
          "Document: ## Annual Performance History\n- **2020:**  \n  - Co...<br>Type: employees",
          "Document: ## Compensation History\n- **2020:** Base Salary: $...<br>Type: employees",
          "Document: Alex Chen continues to be a vital asset at Insurel...<br>Type: employees",
          "Document: # HR Record\n\n# Oliver Spencer\n\n## Summary\n- **Date...<br>Type: employees",
          "Document: ## Annual Performance History\n- **2018**: **3/5** ...<br>Type: employees",
          "Document: ## Compensation History\n- **March 2018**: Initial ...<br>Type: employees",
          "Document: # HR Record\n\n# Emily Tran\n\n## Summary\n- **Date of ...<br>Type: employees",
          "Document: - **January 2017 - May 2018**: Marketing Intern  \n...<br>Type: employees",
          "Document: - **2021**:  \n  - Performance Rating: Meets Expect...<br>Type: employees",
          "Document: - **Professional Development Goals**:  \n  - Emily ...<br>Type: employees",
          "Document: # HR Record\n\n# Jordan Blake\n\n## Summary\n- **Date o...<br>Type: employees",
          "Document: ## Annual Performance History\n- **2021:** First ye...<br>Type: employees",
          "Document: ## Other HR Notes\n- Jordan has shown an interest i...<br>Type: employees",
          "Document: # Avery Lancaster\n\n## Summary\n- **Date of Birth**:...<br>Type: employees",
          "Document: - **2010 - 2013**: Business Analyst at Edge Analyt...<br>Type: employees",
          "Document: - **2018**: **Exceeds Expectations**  \n  Under Ave...<br>Type: employees",
          "Document: - **2022**: **Satisfactory**  \n  Avery focused on ...<br>Type: employees",
          "Document: ## Compensation History\n- **2015**: $150,000 base ...<br>Type: employees",
          "Document: ## Other HR Notes\n- **Professional Development**: ...<br>Type: employees",
          "Document: # HR Record\n\n# Maxine Thompson\n\n## Summary\n- **Dat...<br>Type: employees",
          "Document: ## Insurellm Career Progression\n- **January 2017 -...<br>Type: employees",
          "Document: ## Annual Performance History\n- **2017**: *Meets E...<br>Type: employees",
          "Document: - **2021**: *Exceeds Expectations*  \n  Maxine spea...<br>Type: employees",
          "Document: ## Compensation History\n- **2017**: $70,000 (Junio...<br>Type: employees",
          "Document: # Samantha Greene\n\n## Summary\n- **Date of Birth:**...<br>Type: employees",
          "Document: ## Annual Performance History\n- **2020:** Exceeds ...<br>Type: employees",
          "Document: ## Compensation History\n- **2020:** Base Salary - ...<br>Type: employees",
          "Document: - **2023:** Base Salary - $70,000  \n  Recognized f...<br>Type: employees",
          "Document: # HR Record\n\n# Alex Thomson\n\n## Summary\n- **Date o...<br>Type: employees",
          "Document: ## Annual Performance History  \n- **2022** - Rated...<br>Type: employees",
          "Document: ## Other HR Notes\n- Alex Thomson is an active memb...<br>Type: employees",
          "Document: # HR Record\n\n# Samuel Trenton\n\n## Summary\n- **Date...<br>Type: employees",
          "Document: ## Annual Performance History\n- **2023:** Rating: ...<br>Type: employees",
          "Document: ## Compensation History\n- **2023:** Base Salary: $...<br>Type: employees",
          "Document: - **Engagement in Company Culture:** Regularly par...<br>Type: employees",
          "Document: # HR Record\n\n# Alex Harper\n\n## Summary\n- **Date of...<br>Type: employees",
          "Document: ## Annual Performance History  \n- **2021**:  \n  - ...<br>Type: employees",
          "Document: - **2022**:  \n  - **Base Salary**: $65,000 (Promot...<br>Type: employees",
          "Document: # HR Record\n\n# Jordan K. Bishop\n\n## Summary\n- **Da...<br>Type: employees",
          "Document: ## Annual Performance History\n- **2019:** Exceeds ...<br>Type: employees",
          "Document: ## Compensation History\n- **June 2018:** Starting ...<br>Type: employees",
          "Document: ## Other HR Notes\n- Jordan K. Bishop has been an i...<br>Type: employees",
          "Document: # HR Record\n\n# Emily Carter\n\n## Summary\n- **Date o...<br>Type: employees",
          "Document: - **2017-2019:** Marketing Intern  \n  - Assisted w...<br>Type: employees",
          "Document: ## Compensation History\n| Year | Base Salary | Bon...<br>Type: employees",
          "Document: Emily Carter exemplifies the kind of talent that d...<br>Type: employees"
         ],
         "type": "scatter",
         "x": [
          8.949661,
          9.112209,
          8.295181,
          7.747322,
          9.786244,
          5.8684516,
          6.0167375,
          5.968469,
          5.2807918,
          5.152303,
          9.613373,
          9.379523,
          9.063207,
          7.285141,
          7.9003344,
          9.907453,
          4.6808662,
          4.945384,
          5.599938,
          5.9692936,
          5.7775855,
          2.7756934,
          7.5542464,
          8.495723,
          4.9874363,
          0.020504743,
          7.7726636,
          8.207745,
          9.158013,
          5.041022,
          0.39989442,
          2.5237176,
          1.0851396,
          9.0591135,
          3.3906178,
          -0.025714718,
          4.083743,
          7.6698184,
          6.0674357,
          4.1892853,
          6.1757092,
          6.6527653,
          7.3852844,
          6.0093617,
          3.372372,
          4.9440656,
          2.859118,
          2.0697832,
          3.1375177,
          7.7429166,
          6.900591,
          4.4400897,
          1.0950692,
          3.7874734,
          5.2013364,
          3.2962976,
          2.052972,
          2.281305,
          8.708962,
          2.4927447,
          7.2070336,
          7.6020885,
          7.878755,
          6.4683003,
          0.0029760175,
          4.0910287,
          5.449126,
          7.020834,
          4.1968517,
          2.8677907,
          7.6731496,
          9.660177,
          3.9376469,
          2.789592,
          1.7295744,
          2.5715826,
          -4.7139797,
          -9.588295,
          -8.748838,
          -0.96461844,
          -4.919939,
          -9.743081,
          -8.488494,
          -5.7178693,
          -6.41703,
          -8.968207,
          -6.120593,
          -4.047808,
          -8.677164,
          -3.1020932,
          -2.8383436,
          -4.435625,
          -4.846434,
          -4.8707185,
          -9.900123,
          -3.0235593,
          -4.177066,
          -7.2518516,
          -8.4930725,
          -7.650097,
          -8.073444,
          -6.3207283,
          -9.050447,
          -7.3636374,
          -7.0049167,
          -3.3448234,
          -10.885361,
          -2.6520703,
          -5.4267926,
          -10.307478,
          -9.76382,
          -11.221474,
          -3.7023435,
          -9.819935,
          -9.420209,
          -4.287556,
          -9.346794,
          -10.264697,
          -3.4768662,
          -5.000661,
          -7.6511617,
          -8.401053,
          -0.7967048
         ],
         "y": [
          -2.4924803,
          -3.470444,
          -3.013395,
          -1.5633913,
          -2.1768072,
          1.9759895,
          2.2644618,
          2.9050956,
          3.339188,
          1.6966554,
          -0.1919048,
          0.56349045,
          -0.1454661,
          -0.13799912,
          -0.2068714,
          -0.93346035,
          -0.09276792,
          -0.014483582,
          -0.54900545,
          -0.6660606,
          0.33765027,
          -7.4528346,
          -8.694803,
          2.4722908,
          3.9993908,
          -7.716608,
          -5.86315,
          -5.1162477,
          -3.9246123,
          -5.318462,
          -7.5697894,
          -5.985295,
          -4.471044,
          0.9181329,
          -5.5097623,
          -8.107092,
          -3.5470598,
          -7.636658,
          -1.796036,
          -1.8939725,
          -5.9050055,
          -6.463008,
          -3.1471827,
          -4.6713047,
          -3.0623038,
          -2.7132626,
          -2.0721412,
          -2.2734408,
          -8.11887,
          -9.022435,
          2.4461324,
          -5.6639957,
          -8.074783,
          -3.1884956,
          -2.776379,
          -1.9530294,
          -5.537344,
          -5.1218696,
          1.3981614,
          -4.794657,
          -5.2290497,
          -4.5559545,
          -3.718466,
          -4.243517,
          -6.1372175,
          -7.940695,
          -7.8383007,
          3.446459,
          -7.7193947,
          -6.3186054,
          -8.864354,
          1.7037416,
          -5.528365,
          0.60735035,
          0.90293765,
          0.7619764,
          3.0696595,
          4.7702518,
          0.7954218,
          1.2775224,
          2.7619731,
          4.6054373,
          0.9242012,
          4.8268356,
          5.1422806,
          -0.12772125,
          5.4006033,
          3.7321067,
          1.4519827,
          2.1835814,
          -0.11330199,
          -0.45601812,
          -0.90317917,
          -1.0342795,
          -0.012291603,
          -0.08390883,
          5.5458975,
          3.208634,
          4.2554483,
          3.707167,
          2.2651834,
          1.5751704,
          3.7516015,
          0.61099154,
          0.9671638,
          3.9142196,
          1.9047946,
          3.6195672,
          3.2643762,
          2.1584537,
          1.0544822,
          3.8779366,
          4.051468,
          1.7329123,
          2.1004343,
          2.4932916,
          5.0075426,
          0.410496,
          1.9969015,
          4.51906,
          5.637755,
          0.14496067,
          1.6302478
         ]
        }
       ],
       "layout": {
        "height": 600,
        "margin": {
         "b": 10,
         "l": 10,
         "r": 20,
         "t": 40
        },
        "template": {
         "data": {
          "bar": [
           {
            "error_x": {
             "color": "#2a3f5f"
            },
            "error_y": {
             "color": "#2a3f5f"
            },
            "marker": {
             "line": {
              "color": "#E5ECF6",
              "width": 0.5
             },
             "pattern": {
              "fillmode": "overlay",
              "size": 10,
              "solidity": 0.2
             }
            },
            "type": "bar"
           }
          ],
          "barpolar": [
           {
            "marker": {
             "line": {
              "color": "#E5ECF6",
              "width": 0.5
             },
             "pattern": {
              "fillmode": "overlay",
              "size": 10,
              "solidity": 0.2
             }
            },
            "type": "barpolar"
           }
          ],
          "carpet": [
           {
            "aaxis": {
             "endlinecolor": "#2a3f5f",
             "gridcolor": "white",
             "linecolor": "white",
             "minorgridcolor": "white",
             "startlinecolor": "#2a3f5f"
            },
            "baxis": {
             "endlinecolor": "#2a3f5f",
             "gridcolor": "white",
             "linecolor": "white",
             "minorgridcolor": "white",
             "startlinecolor": "#2a3f5f"
            },
            "type": "carpet"
           }
          ],
          "choropleth": [
           {
            "colorbar": {
             "outlinewidth": 0,
             "ticks": ""
            },
            "type": "choropleth"
           }
          ],
          "contour": [
           {
            "colorbar": {
             "outlinewidth": 0,
             "ticks": ""
            },
            "colorscale": [
             [
              0,
              "#0d0887"
             ],
             [
              0.1111111111111111,
              "#46039f"
             ],
             [
              0.2222222222222222,
              "#7201a8"
             ],
             [
              0.3333333333333333,
              "#9c179e"
             ],
             [
              0.4444444444444444,
              "#bd3786"
             ],
             [
              0.5555555555555556,
              "#d8576b"
             ],
             [
              0.6666666666666666,
              "#ed7953"
             ],
             [
              0.7777777777777778,
              "#fb9f3a"
             ],
             [
              0.8888888888888888,
              "#fdca26"
             ],
             [
              1,
              "#f0f921"
             ]
            ],
            "type": "contour"
           }
          ],
          "contourcarpet": [
           {
            "colorbar": {
             "outlinewidth": 0,
             "ticks": ""
            },
            "type": "contourcarpet"
           }
          ],
          "heatmap": [
           {
            "colorbar": {
             "outlinewidth": 0,
             "ticks": ""
            },
            "colorscale": [
             [
              0,
              "#0d0887"
             ],
             [
              0.1111111111111111,
              "#46039f"
             ],
             [
              0.2222222222222222,
              "#7201a8"
             ],
             [
              0.3333333333333333,
              "#9c179e"
             ],
             [
              0.4444444444444444,
              "#bd3786"
             ],
             [
              0.5555555555555556,
              "#d8576b"
             ],
             [
              0.6666666666666666,
              "#ed7953"
             ],
             [
              0.7777777777777778,
              "#fb9f3a"
             ],
             [
              0.8888888888888888,
              "#fdca26"
             ],
             [
              1,
              "#f0f921"
             ]
            ],
            "type": "heatmap"
           }
          ],
          "heatmapgl": [
           {
            "colorbar": {
             "outlinewidth": 0,
             "ticks": ""
            },
            "colorscale": [
             [
              0,
              "#0d0887"
             ],
             [
              0.1111111111111111,
              "#46039f"
             ],
             [
              0.2222222222222222,
              "#7201a8"
             ],
             [
              0.3333333333333333,
              "#9c179e"
             ],
             [
              0.4444444444444444,
              "#bd3786"
             ],
             [
              0.5555555555555556,
              "#d8576b"
             ],
             [
              0.6666666666666666,
              "#ed7953"
             ],
             [
              0.7777777777777778,
              "#fb9f3a"
             ],
             [
              0.8888888888888888,
              "#fdca26"
             ],
             [
              1,
              "#f0f921"
             ]
            ],
            "type": "heatmapgl"
           }
          ],
          "histogram": [
           {
            "marker": {
             "pattern": {
              "fillmode": "overlay",
              "size": 10,
              "solidity": 0.2
             }
            },
            "type": "histogram"
           }
          ],
          "histogram2d": [
           {
            "colorbar": {
             "outlinewidth": 0,
             "ticks": ""
            },
            "colorscale": [
             [
              0,
              "#0d0887"
             ],
             [
              0.1111111111111111,
              "#46039f"
             ],
             [
              0.2222222222222222,
              "#7201a8"
             ],
             [
              0.3333333333333333,
              "#9c179e"
             ],
             [
              0.4444444444444444,
              "#bd3786"
             ],
             [
              0.5555555555555556,
              "#d8576b"
             ],
             [
              0.6666666666666666,
              "#ed7953"
             ],
             [
              0.7777777777777778,
              "#fb9f3a"
             ],
             [
              0.8888888888888888,
              "#fdca26"
             ],
             [
              1,
              "#f0f921"
             ]
            ],
            "type": "histogram2d"
           }
          ],
          "histogram2dcontour": [
           {
            "colorbar": {
             "outlinewidth": 0,
             "ticks": ""
            },
            "colorscale": [
             [
              0,
              "#0d0887"
             ],
             [
              0.1111111111111111,
              "#46039f"
             ],
             [
              0.2222222222222222,
              "#7201a8"
             ],
             [
              0.3333333333333333,
              "#9c179e"
             ],
             [
              0.4444444444444444,
              "#bd3786"
             ],
             [
              0.5555555555555556,
              "#d8576b"
             ],
             [
              0.6666666666666666,
              "#ed7953"
             ],
             [
              0.7777777777777778,
              "#fb9f3a"
             ],
             [
              0.8888888888888888,
              "#fdca26"
             ],
             [
              1,
              "#f0f921"
             ]
            ],
            "type": "histogram2dcontour"
           }
          ],
          "mesh3d": [
           {
            "colorbar": {
             "outlinewidth": 0,
             "ticks": ""
            },
            "type": "mesh3d"
           }
          ],
          "parcoords": [
           {
            "line": {
             "colorbar": {
              "outlinewidth": 0,
              "ticks": ""
             }
            },
            "type": "parcoords"
           }
          ],
          "pie": [
           {
            "automargin": true,
            "type": "pie"
           }
          ],
          "scatter": [
           {
            "fillpattern": {
             "fillmode": "overlay",
             "size": 10,
             "solidity": 0.2
            },
            "type": "scatter"
           }
          ],
          "scatter3d": [
           {
            "line": {
             "colorbar": {
              "outlinewidth": 0,
              "ticks": ""
             }
            },
            "marker": {
             "colorbar": {
              "outlinewidth": 0,
              "ticks": ""
             }
            },
            "type": "scatter3d"
           }
          ],
          "scattercarpet": [
           {
            "marker": {
             "colorbar": {
              "outlinewidth": 0,
              "ticks": ""
             }
            },
            "type": "scattercarpet"
           }
          ],
          "scattergeo": [
           {
            "marker": {
             "colorbar": {
              "outlinewidth": 0,
              "ticks": ""
             }
            },
            "type": "scattergeo"
           }
          ],
          "scattergl": [
           {
            "marker": {
             "colorbar": {
              "outlinewidth": 0,
              "ticks": ""
             }
            },
            "type": "scattergl"
           }
          ],
          "scattermapbox": [
           {
            "marker": {
             "colorbar": {
              "outlinewidth": 0,
              "ticks": ""
             }
            },
            "type": "scattermapbox"
           }
          ],
          "scatterpolar": [
           {
            "marker": {
             "colorbar": {
              "outlinewidth": 0,
              "ticks": ""
             }
            },
            "type": "scatterpolar"
           }
          ],
          "scatterpolargl": [
           {
            "marker": {
             "colorbar": {
              "outlinewidth": 0,
              "ticks": ""
             }
            },
            "type": "scatterpolargl"
           }
          ],
          "scatterternary": [
           {
            "marker": {
             "colorbar": {
              "outlinewidth": 0,
              "ticks": ""
             }
            },
            "type": "scatterternary"
           }
          ],
          "surface": [
           {
            "colorbar": {
             "outlinewidth": 0,
             "ticks": ""
            },
            "colorscale": [
             [
              0,
              "#0d0887"
             ],
             [
              0.1111111111111111,
              "#46039f"
             ],
             [
              0.2222222222222222,
              "#7201a8"
             ],
             [
              0.3333333333333333,
              "#9c179e"
             ],
             [
              0.4444444444444444,
              "#bd3786"
             ],
             [
              0.5555555555555556,
              "#d8576b"
             ],
             [
              0.6666666666666666,
              "#ed7953"
             ],
             [
              0.7777777777777778,
              "#fb9f3a"
             ],
             [
              0.8888888888888888,
              "#fdca26"
             ],
             [
              1,
              "#f0f921"
             ]
            ],
            "type": "surface"
           }
          ],
          "table": [
           {
            "cells": {
             "fill": {
              "color": "#EBF0F8"
             },
             "line": {
              "color": "white"
             }
            },
            "header": {
             "fill": {
              "color": "#C8D4E3"
             },
             "line": {
              "color": "white"
             }
            },
            "type": "table"
           }
          ]
         },
         "layout": {
          "annotationdefaults": {
           "arrowcolor": "#2a3f5f",
           "arrowhead": 0,
           "arrowwidth": 1
          },
          "autotypenumbers": "strict",
          "coloraxis": {
           "colorbar": {
            "outlinewidth": 0,
            "ticks": ""
           }
          },
          "colorscale": {
           "diverging": [
            [
             0,
             "#8e0152"
            ],
            [
             0.1,
             "#c51b7d"
            ],
            [
             0.2,
             "#de77ae"
            ],
            [
             0.3,
             "#f1b6da"
            ],
            [
             0.4,
             "#fde0ef"
            ],
            [
             0.5,
             "#f7f7f7"
            ],
            [
             0.6,
             "#e6f5d0"
            ],
            [
             0.7,
             "#b8e186"
            ],
            [
             0.8,
             "#7fbc41"
            ],
            [
             0.9,
             "#4d9221"
            ],
            [
             1,
             "#276419"
            ]
           ],
           "sequential": [
            [
             0,
             "#0d0887"
            ],
            [
             0.1111111111111111,
             "#46039f"
            ],
            [
             0.2222222222222222,
             "#7201a8"
            ],
            [
             0.3333333333333333,
             "#9c179e"
            ],
            [
             0.4444444444444444,
             "#bd3786"
            ],
            [
             0.5555555555555556,
             "#d8576b"
            ],
            [
             0.6666666666666666,
             "#ed7953"
            ],
            [
             0.7777777777777778,
             "#fb9f3a"
            ],
            [
             0.8888888888888888,
             "#fdca26"
            ],
            [
             1,
             "#f0f921"
            ]
           ],
           "sequentialminus": [
            [
             0,
             "#0d0887"
            ],
            [
             0.1111111111111111,
             "#46039f"
            ],
            [
             0.2222222222222222,
             "#7201a8"
            ],
            [
             0.3333333333333333,
             "#9c179e"
            ],
            [
             0.4444444444444444,
             "#bd3786"
            ],
            [
             0.5555555555555556,
             "#d8576b"
            ],
            [
             0.6666666666666666,
             "#ed7953"
            ],
            [
             0.7777777777777778,
             "#fb9f3a"
            ],
            [
             0.8888888888888888,
             "#fdca26"
            ],
            [
             1,
             "#f0f921"
            ]
           ]
          },
          "colorway": [
           "#636efa",
           "#EF553B",
           "#00cc96",
           "#ab63fa",
           "#FFA15A",
           "#19d3f3",
           "#FF6692",
           "#B6E880",
           "#FF97FF",
           "#FECB52"
          ],
          "font": {
           "color": "#2a3f5f"
          },
          "geo": {
           "bgcolor": "white",
           "lakecolor": "white",
           "landcolor": "#E5ECF6",
           "showlakes": true,
           "showland": true,
           "subunitcolor": "white"
          },
          "hoverlabel": {
           "align": "left"
          },
          "hovermode": "closest",
          "mapbox": {
           "style": "light"
          },
          "paper_bgcolor": "white",
          "plot_bgcolor": "#E5ECF6",
          "polar": {
           "angularaxis": {
            "gridcolor": "white",
            "linecolor": "white",
            "ticks": ""
           },
           "bgcolor": "#E5ECF6",
           "radialaxis": {
            "gridcolor": "white",
            "linecolor": "white",
            "ticks": ""
           }
          },
          "scene": {
           "xaxis": {
            "backgroundcolor": "#E5ECF6",
            "gridcolor": "white",
            "gridwidth": 2,
            "linecolor": "white",
            "showbackground": true,
            "ticks": "",
            "zerolinecolor": "white"
           },
           "yaxis": {
            "backgroundcolor": "#E5ECF6",
            "gridcolor": "white",
            "gridwidth": 2,
            "linecolor": "white",
            "showbackground": true,
            "ticks": "",
            "zerolinecolor": "white"
           },
           "zaxis": {
            "backgroundcolor": "#E5ECF6",
            "gridcolor": "white",
            "gridwidth": 2,
            "linecolor": "white",
            "showbackground": true,
            "ticks": "",
            "zerolinecolor": "white"
           }
          },
          "shapedefaults": {
           "line": {
            "color": "#2a3f5f"
           }
          },
          "ternary": {
           "aaxis": {
            "gridcolor": "white",
            "linecolor": "white",
            "ticks": ""
           },
           "baxis": {
            "gridcolor": "white",
            "linecolor": "white",
            "ticks": ""
           },
           "bgcolor": "#E5ECF6",
           "caxis": {
            "gridcolor": "white",
            "linecolor": "white",
            "ticks": ""
           }
          },
          "title": {
           "x": 0.05
          },
          "xaxis": {
           "automargin": true,
           "gridcolor": "white",
           "linecolor": "white",
           "ticks": "",
           "title": {
            "standoff": 15
           },
           "zerolinecolor": "white",
           "zerolinewidth": 2
          },
          "yaxis": {
           "automargin": true,
           "gridcolor": "white",
           "linecolor": "white",
           "ticks": "",
           "title": {
            "standoff": 15
           },
           "zerolinecolor": "white",
           "zerolinewidth": 2
          }
         }
        },
        "title": {
         "text": "2D t-SNE Visualization of Vector Store"
        },
        "width": 800,
        "xaxis": {
         "title": {
          "text": "x"
         }
        },
        "yaxis": {
         "title": {
          "text": "y"
         }
        }
       }
      }
     },
     "metadata": {},
     "output_type": "display_data"
    }
   ],
   "source": [
    "# 2D t-SNE visualization of vector store\n",
    "# Reduce the dimensionality of the vectors to 2D using t-SNE\n",
    "# Note: t-SNE is computationally expensive and may take a while for large datasets\n",
    "\n",
    "tsne = TSNE(n_components=2, random_state=42)\n",
    "reduced_vectors = tsne.fit_transform(vectors)\n",
    "\n",
    "# Create 2D scatter plot\n",
    "fig = go.Figure(data=[go.Scatter(\n",
    "    x=reduced_vectors[:, 0],\n",
    "    y=reduced_vectors[:, 1],\n",
    "    mode='markers',\n",
    "    marker=dict(size=10, color=colors, opacity=0.8),\n",
    "    text=[\n",
    "        f\"Document: {doc[:50]}...<br>Type: {metadata['doc_type']}\"\n",
    "        for doc, metadata in zip(documents, result['metadatas'])\n",
    "    ],\n",
    "    hoverinfo='text',\n",
    ")])\n",
    "\n",
    "fig.update_layout(\n",
    "    title='2D t-SNE Visualization of Vector Store',\n",
    "    xaxis_title='x',\n",
    "    yaxis_title='y',\n",
    "    width=800,\n",
    "    height=600,\n",
    "    margin=dict(l=10, r=20, t=40, b=10),\n",
    ")\n",
    "\n",
    "fig.show()"
   ]
  },
  {
   "cell_type": "code",
   "execution_count": 175,
   "metadata": {},
   "outputs": [
    {
     "data": {
      "application/vnd.plotly.v1+json": {
       "config": {
        "plotlyServerURL": "https://plot.ly"
       },
       "data": [
        {
         "hoverinfo": "text",
         "marker": {
          "color": [
           "blue",
           "blue",
           "blue",
           "blue",
           "blue",
           "blue",
           "blue",
           "blue",
           "blue",
           "blue",
           "blue",
           "blue",
           "blue",
           "blue",
           "blue",
           "blue",
           "blue",
           "blue",
           "blue",
           "blue",
           "blue",
           "red",
           "red",
           "red",
           "red",
           "red",
           "red",
           "red",
           "red",
           "red",
           "red",
           "red",
           "red",
           "red",
           "red",
           "red",
           "red",
           "red",
           "red",
           "red",
           "red",
           "red",
           "red",
           "red",
           "red",
           "red",
           "red",
           "red",
           "red",
           "red",
           "red",
           "red",
           "red",
           "red",
           "red",
           "red",
           "red",
           "red",
           "red",
           "red",
           "red",
           "red",
           "red",
           "red",
           "red",
           "red",
           "red",
           "red",
           "red",
           "red",
           "red",
           "red",
           "red",
           "orange",
           "orange",
           "orange",
           "green",
           "green",
           "green",
           "green",
           "green",
           "green",
           "green",
           "green",
           "green",
           "green",
           "green",
           "green",
           "green",
           "green",
           "green",
           "green",
           "green",
           "green",
           "green",
           "green",
           "green",
           "green",
           "green",
           "green",
           "green",
           "green",
           "green",
           "green",
           "green",
           "green",
           "green",
           "green",
           "green",
           "green",
           "green",
           "green",
           "green",
           "green",
           "green",
           "green",
           "green",
           "green",
           "green",
           "green",
           "green",
           "green",
           "green"
          ],
          "opacity": 0.8,
          "size": 10
         },
         "mode": "markers",
         "text": [
          "Document: # Product Summary\n\n# Rellm: AI-Powered Enterprise ...<br>Type: products",
          "Document: ### Seamless Integrations\nRellm's architecture is ...<br>Type: products",
          "Document: ### Regulatory Compliance Tools\nRellm includes bui...<br>Type: products",
          "Document: Join the growing number of organizations leveragin...<br>Type: products",
          "Document: Experience the future of reinsurance with Rellm, w...<br>Type: products",
          "Document: # Product Summary\n\n# Markellm\n\n## Summary\n\nMarkell...<br>Type: products",
          "Document: - **User-Friendly Interface**: Designed with user ...<br>Type: products",
          "Document: - **Customer Support**: Our dedicated support team...<br>Type: products",
          "Document: ### For Insurance Companies:\n- **Basic Listing Fee...<br>Type: products",
          "Document: ### Q3 2025\n- Initiate a comprehensive marketing c...<br>Type: products",
          "Document: # Product Summary\n\n# Homellm\n\n## Summary\nHomellm i...<br>Type: products",
          "Document: ### 2. Dynamic Pricing Model\nWith Homellm's innova...<br>Type: products",
          "Document: ### 5. Multi-Channel Integration\nHomellm seamlessl...<br>Type: products",
          "Document: - **Basic Tier:** Starting at $5,000/month for sma...<br>Type: products",
          "Document: All tiers include a comprehensive training program...<br>Type: products",
          "Document: With Homellm, Insurellm is committed to transformi...<br>Type: products",
          "Document: # Product Summary\n\n# Carllm\n\n## Summary\n\nCarllm is...<br>Type: products",
          "Document: - **Instant Quoting**: With Carllm, insurance comp...<br>Type: products",
          "Document: - **Mobile Integration**: Carllm is designed to wo...<br>Type: products",
          "Document: - **Professional Tier**: $2,500/month\n  - For medi...<br>Type: products",
          "Document: ### Q2 2025: Customer Experience Improvements\n- La...<br>Type: products",
          "Document: # Contract with GreenField Holdings for Markellm\n\n...<br>Type: contracts",
          "Document: ## Renewal\n1. **Automatic Renewal**: This contract...<br>Type: contracts",
          "Document: ## Features\n1. **AI-Powered Matching**: Access to ...<br>Type: contracts",
          "Document: ## Support\n1. **Customer Support Access**: The Cli...<br>Type: contracts",
          "Document: **Signatures:**  \n_________________________       ...<br>Type: contracts",
          "Document: # Contract with Apex Reinsurance for Rellm: AI-Pow...<br>Type: contracts",
          "Document: ## Renewal\n\n1. **Automatic Renewal**: This Agreeme...<br>Type: contracts",
          "Document: 2. **Seamless Integrations**: The architecture of ...<br>Type: contracts",
          "Document: 1. **Technical Support**: Provider shall offer ded...<br>Type: contracts",
          "Document: **Insurellm, Inc.**  \n____________________________...<br>Type: contracts",
          "Document: # Contract with Greenstone Insurance for Homellm\n\n...<br>Type: contracts",
          "Document: 4. **Payment Terms**: \n   - The Customer shall pay...<br>Type: contracts",
          "Document: ---\n\n## Features\n\n- **AI-Powered Risk Assessment**...<br>Type: contracts",
          "Document: - **Customer Portal**: A dedicated portal will be ...<br>Type: contracts",
          "Document: ______________________________  \n[Name], [Title]  ...<br>Type: contracts",
          "Document: # Contract with Roadway Insurance Inc. for Carllm\n...<br>Type: contracts",
          "Document: ---\n\n## Renewal\n\n1. **Automatic Renewal**: This ag...<br>Type: contracts",
          "Document: ---\n\n## Features\n\n1. **Access to Core Features**: ...<br>Type: contracts",
          "Document: ---\n\n## Support\n\n1. **Technical Support**: Roadway...<br>Type: contracts",
          "Document: # Contract with Stellar Insurance Co. for Rellm\n\n#...<br>Type: contracts",
          "Document: ### Termination\nEither party may terminate this ag...<br>Type: contracts",
          "Document: ## Features\nStellar Insurance Co. will receive acc...<br>Type: contracts",
          "Document: ## Support\nInsurellm provides Stellar Insurance Co...<br>Type: contracts",
          "Document: # Contract with TechDrive Insurance for Carllm\n\n**...<br>Type: contracts",
          "Document: ## Renewal\n\n1. **Automatic Renewal**: This contrac...<br>Type: contracts",
          "Document: ## Support\n\n1. **Customer Support**: Insurellm wil...<br>Type: contracts",
          "Document: **TechDrive Insurance Representative:**  \nName: Sa...<br>Type: contracts",
          "Document: # Contract with Belvedere Insurance for Markellm\n\n...<br>Type: contracts",
          "Document: ## Renewal\n1. **Renewal Terms**: This Agreement ma...<br>Type: contracts",
          "Document: ## Features\n1. **AI-Powered Matching**: Belvedere ...<br>Type: contracts",
          "Document: ## Support\n1. **Technical Support**: Technical sup...<br>Type: contracts",
          "Document: **Belvedere Insurance**  \nSignature: _____________...<br>Type: contracts",
          "Document: # Contract with Velocity Auto Solutions for Carllm...<br>Type: contracts",
          "Document: ## Renewal\n\n1. **Automatic Renewal**: This contrac...<br>Type: contracts",
          "Document: ## Support\n\n1. **Customer Support**: Velocity Auto...<br>Type: contracts",
          "Document: # Contract with GreenValley Insurance for Homellm\n...<br>Type: contracts",
          "Document: 4. **Confidentiality:** Both parties agree to main...<br>Type: contracts",
          "Document: 1. **AI-Powered Risk Assessment:** Access to advan...<br>Type: contracts",
          "Document: 3. **Regular Updates:** Insurellm will offer ongoi...<br>Type: contracts",
          "Document: # Contract with EverGuard Insurance for Rellm: AI-...<br>Type: contracts",
          "Document: 4. **Usage Rights**: EverGuard Insurance is grante...<br>Type: contracts",
          "Document: 1. **Core Functionality**: Rellm provides EverGuar...<br>Type: contracts",
          "Document: 1. **Customer Support**: Insurellm will provide Ev...<br>Type: contracts",
          "Document: ---\n\n**Signatures**  \n**For Insurellm**: _________...<br>Type: contracts",
          "Document: # Contract with BrightWay Solutions for Markellm\n\n...<br>Type: contracts",
          "Document: 3. **Service Level Agreement (SLA):**  \n   Insurel...<br>Type: contracts",
          "Document: 2. **Real-Time Quote Availability:**  \n   Consumer...<br>Type: contracts",
          "Document: 3. **Training and Onboarding:**  \n   Insurellm agr...<br>Type: contracts",
          "Document: # Contract with Pinnacle Insurance Co. for Homellm...<br>Type: contracts",
          "Document: ## Renewal\n1. **Renewal Terms**: At the end of the...<br>Type: contracts",
          "Document: ## Features\n1. **AI-Powered Risk Assessment**: Uti...<br>Type: contracts",
          "Document: ## Support\n1. **Technical Support**: Insurellm sha...<br>Type: contracts",
          "Document: # Overview of Insurellm\n\nInsurellm is an innovativ...<br>Type: company",
          "Document: # Careers at Insurellm\n\nInsurellm is hiring! We ar...<br>Type: company",
          "Document: # About Insurellm\n\nInsurellm was founded by Avery ...<br>Type: company",
          "Document: # HR Record\n\n# Alex Chen\n\n## Summary\n- **Date of B...<br>Type: employees",
          "Document: ## Annual Performance History\n- **2020:**  \n  - Co...<br>Type: employees",
          "Document: ## Compensation History\n- **2020:** Base Salary: $...<br>Type: employees",
          "Document: Alex Chen continues to be a vital asset at Insurel...<br>Type: employees",
          "Document: # HR Record\n\n# Oliver Spencer\n\n## Summary\n- **Date...<br>Type: employees",
          "Document: ## Annual Performance History\n- **2018**: **3/5** ...<br>Type: employees",
          "Document: ## Compensation History\n- **March 2018**: Initial ...<br>Type: employees",
          "Document: # HR Record\n\n# Emily Tran\n\n## Summary\n- **Date of ...<br>Type: employees",
          "Document: - **January 2017 - May 2018**: Marketing Intern  \n...<br>Type: employees",
          "Document: - **2021**:  \n  - Performance Rating: Meets Expect...<br>Type: employees",
          "Document: - **Professional Development Goals**:  \n  - Emily ...<br>Type: employees",
          "Document: # HR Record\n\n# Jordan Blake\n\n## Summary\n- **Date o...<br>Type: employees",
          "Document: ## Annual Performance History\n- **2021:** First ye...<br>Type: employees",
          "Document: ## Other HR Notes\n- Jordan has shown an interest i...<br>Type: employees",
          "Document: # Avery Lancaster\n\n## Summary\n- **Date of Birth**:...<br>Type: employees",
          "Document: - **2010 - 2013**: Business Analyst at Edge Analyt...<br>Type: employees",
          "Document: - **2018**: **Exceeds Expectations**  \n  Under Ave...<br>Type: employees",
          "Document: - **2022**: **Satisfactory**  \n  Avery focused on ...<br>Type: employees",
          "Document: ## Compensation History\n- **2015**: $150,000 base ...<br>Type: employees",
          "Document: ## Other HR Notes\n- **Professional Development**: ...<br>Type: employees",
          "Document: # HR Record\n\n# Maxine Thompson\n\n## Summary\n- **Dat...<br>Type: employees",
          "Document: ## Insurellm Career Progression\n- **January 2017 -...<br>Type: employees",
          "Document: ## Annual Performance History\n- **2017**: *Meets E...<br>Type: employees",
          "Document: - **2021**: *Exceeds Expectations*  \n  Maxine spea...<br>Type: employees",
          "Document: ## Compensation History\n- **2017**: $70,000 (Junio...<br>Type: employees",
          "Document: # Samantha Greene\n\n## Summary\n- **Date of Birth:**...<br>Type: employees",
          "Document: ## Annual Performance History\n- **2020:** Exceeds ...<br>Type: employees",
          "Document: ## Compensation History\n- **2020:** Base Salary - ...<br>Type: employees",
          "Document: - **2023:** Base Salary - $70,000  \n  Recognized f...<br>Type: employees",
          "Document: # HR Record\n\n# Alex Thomson\n\n## Summary\n- **Date o...<br>Type: employees",
          "Document: ## Annual Performance History  \n- **2022** - Rated...<br>Type: employees",
          "Document: ## Other HR Notes\n- Alex Thomson is an active memb...<br>Type: employees",
          "Document: # HR Record\n\n# Samuel Trenton\n\n## Summary\n- **Date...<br>Type: employees",
          "Document: ## Annual Performance History\n- **2023:** Rating: ...<br>Type: employees",
          "Document: ## Compensation History\n- **2023:** Base Salary: $...<br>Type: employees",
          "Document: - **Engagement in Company Culture:** Regularly par...<br>Type: employees",
          "Document: # HR Record\n\n# Alex Harper\n\n## Summary\n- **Date of...<br>Type: employees",
          "Document: ## Annual Performance History  \n- **2021**:  \n  - ...<br>Type: employees",
          "Document: - **2022**:  \n  - **Base Salary**: $65,000 (Promot...<br>Type: employees",
          "Document: # HR Record\n\n# Jordan K. Bishop\n\n## Summary\n- **Da...<br>Type: employees",
          "Document: ## Annual Performance History\n- **2019:** Exceeds ...<br>Type: employees",
          "Document: ## Compensation History\n- **June 2018:** Starting ...<br>Type: employees",
          "Document: ## Other HR Notes\n- Jordan K. Bishop has been an i...<br>Type: employees",
          "Document: # HR Record\n\n# Emily Carter\n\n## Summary\n- **Date o...<br>Type: employees",
          "Document: - **2017-2019:** Marketing Intern  \n  - Assisted w...<br>Type: employees",
          "Document: ## Compensation History\n| Year | Base Salary | Bon...<br>Type: employees",
          "Document: Emily Carter exemplifies the kind of talent that d...<br>Type: employees"
         ],
         "type": "scatter3d",
         "x": [
          70.03521,
          75.3257,
          56.486984,
          27.559639,
          65.48933,
          30.075521,
          10.1244955,
          65.92214,
          95.5151,
          20.475428,
          50.23563,
          39.428787,
          26.014442,
          26.971743,
          47.1524,
          42.81614,
          60.077877,
          81.40933,
          54.108334,
          -25.52986,
          1.8289896,
          -13.336613,
          -8.086254,
          -72.9185,
          87.68118,
          -67.32851,
          109.39399,
          63.634563,
          87.05124,
          -6.31235,
          -51.833374,
          -78.132034,
          34.49273,
          58.71034,
          -6.091268,
          -75.58387,
          -2.0907202,
          13.931627,
          18.101328,
          -40.059795,
          28.545809,
          9.753951,
          43.091454,
          20.599888,
          -19.902483,
          36.157722,
          7.0345907,
          -49.927452,
          6.4716396,
          -37.275078,
          49.360012,
          -21.524458,
          3.7069309,
          -7.577933,
          80.88671,
          -24.111647,
          -33.84061,
          -37.63603,
          35.37948,
          -1.3509436,
          100.24637,
          -100.651596,
          -101.19954,
          -19.416012,
          -70.34303,
          91.92832,
          81.561005,
          93.87762,
          93.79988,
          34.308594,
          -21.603045,
          56.526634,
          8.150292,
          53.719852,
          31.40611,
          38.404015,
          -27.450827,
          -14.563435,
          -61.963737,
          -64.62443,
          -6.818807,
          1.0785468,
          -53.093433,
          -4.905369,
          0.50690323,
          -59.333336,
          -43.47175,
          10.410286,
          -33.814777,
          -31.19346,
          11.17811,
          23.602777,
          29.171595,
          40.647945,
          -87.88512,
          -13.377544,
          -6.601051,
          -67.583824,
          -37.999725,
          -44.64551,
          -85.059,
          -33.14688,
          -35.01644,
          -61.725525,
          -37.493633,
          -5.1034484,
          -65.88096,
          -64.0889,
          -11.302616,
          54.27311,
          -90.04147,
          -43.263416,
          0.7901285,
          -38.12861,
          -23.875885,
          -21.14776,
          -7.3745904,
          -74.31727,
          -29.520195,
          -20.224283,
          13.111463,
          -55.9518,
          -40.78455
         ],
         "y": [
          -22.498934,
          -51.23144,
          -72.45087,
          -60.13963,
          -5.758364,
          56.04213,
          41.228928,
          38.3343,
          16.13008,
          70.905815,
          27.549335,
          8.054229,
          9.213181,
          -96.19854,
          35.826122,
          19.503242,
          55.32288,
          41.332256,
          -70.10629,
          -39.886555,
          -68.06177,
          6.151777,
          -71.97577,
          -78.18892,
          17.49183,
          -35.141323,
          -20.560484,
          -51.16005,
          -59.88084,
          -39.206253,
          -22.071978,
          -3.1743202,
          -21.599123,
          -4.712709,
          -7.33786,
          -45.920296,
          -101.58937,
          -94.209404,
          -58.270897,
          -24.630318,
          -64.252556,
          -61.95929,
          -40.123196,
          -42.842594,
          -107.803055,
          -31.619904,
          -63.297234,
          18.196003,
          -19.868683,
          -73.76203,
          -16.303988,
          -21.46217,
          -3.3255088,
          -81.43687,
          -0.70052505,
          -53.242783,
          -84.41285,
          -67.7446,
          -21.347286,
          -32.4774,
          -0.92731327,
          -5.615257,
          -20.04984,
          6.4713044,
          -4.741438,
          -23.972485,
          -52.016445,
          -30.11447,
          42.66886,
          -53.233265,
          -91.70062,
          -18.530668,
          12.753443,
          11.984882,
          1.751385,
          28.334486,
          9.317833,
          67.89408,
          31.434355,
          -38.56681,
          76.458664,
          80.80714,
          46.43643,
          5.9413767,
          28.524345,
          32.32453,
          62.750534,
          7.2916565,
          25.456602,
          17.267887,
          38.173378,
          67.21138,
          92.76075,
          88.88441,
          45.645287,
          -31.042236,
          9.4250145,
          74.35219,
          94.357185,
          90.38176,
          55.881924,
          53.6488,
          87.3499,
          69.42121,
          69.39228,
          113.270485,
          2.2224746,
          20.72603,
          -18.640676,
          -101.985954,
          32.558025,
          -36.23518,
          34.791855,
          49.762478,
          36.688564,
          53.565475,
          91.89726,
          64.15007,
          33.487095,
          -10.644895,
          50.495148,
          10.588134,
          -25.75377
         ],
         "z": [
          19.30439,
          28.650517,
          12.418791,
          33.706993,
          45.324295,
          -43.170242,
          -50.532036,
          42.81102,
          -55.71534,
          -67.6974,
          -43.948196,
          -63.099556,
          -36.93681,
          11.013715,
          -82.96538,
          -14.6915865,
          -22.809866,
          -24.933474,
          59.465286,
          -52.631405,
          44.49497,
          -63.92007,
          -74.50736,
          7.723876,
          -82.53823,
          -42.56503,
          7.173391,
          -18.891336,
          5.767988,
          -22.704693,
          -24.398703,
          83.58477,
          -106.66308,
          -48.789543,
          -36.78348,
          -21.097404,
          -31.105886,
          -60.447453,
          79.60698,
          -81.570015,
          -24.688267,
          -43.684597,
          9.3929,
          -6.9889054,
          -8.229243,
          58.33949,
          -108.1107,
          -73.25444,
          -70.18112,
          -73.17009,
          -15.473747,
          -8.415047,
          -3.1861703,
          -6.3855977,
          -14.604123,
          8.263311,
          21.855616,
          -20.063894,
          -46.557835,
          21.478382,
          25.41648,
          -19.712757,
          5.193134,
          -111.488,
          -57.009903,
          -60.195274,
          -49.004234,
          -31.834095,
          12.724834,
          -71.40488,
          -65.1721,
          -74.43533,
          -88.29352,
          12.578693,
          29.87833,
          17.860441,
          85.49209,
          22.867449,
          29.600487,
          41.62223,
          -26.851658,
          39.79061,
          9.952444,
          44.657375,
          33.100567,
          64.52641,
          -52.649887,
          78.49046,
          24.715609,
          -8.805582,
          -2.2963178,
          8.720084,
          1.5355457,
          22.10292,
          52.23483,
          -108.71926,
          115.35049,
          -14.337094,
          17.016254,
          -9.128119,
          1.5947993,
          98.02289,
          46.908516,
          64.57485,
          76.240425,
          53.157,
          11.580614,
          -20.414053,
          89.85768,
          -27.571436,
          25.06634,
          87.07791,
          81.366165,
          41.43957,
          62.734863,
          -14.308372,
          12.132172,
          30.231773,
          -29.128563,
          58.16795,
          46.587566,
          47.164623,
          34.076393
         ]
        }
       ],
       "layout": {
        "height": 600,
        "margin": {
         "b": 10,
         "l": 10,
         "r": 20,
         "t": 40
        },
        "scene": {
         "xaxis": {
          "title": {
           "text": "x"
          }
         },
         "yaxis": {
          "title": {
           "text": "y"
          }
         },
         "zaxis": {
          "title": {
           "text": "z"
          }
         }
        },
        "template": {
         "data": {
          "bar": [
           {
            "error_x": {
             "color": "#2a3f5f"
            },
            "error_y": {
             "color": "#2a3f5f"
            },
            "marker": {
             "line": {
              "color": "#E5ECF6",
              "width": 0.5
             },
             "pattern": {
              "fillmode": "overlay",
              "size": 10,
              "solidity": 0.2
             }
            },
            "type": "bar"
           }
          ],
          "barpolar": [
           {
            "marker": {
             "line": {
              "color": "#E5ECF6",
              "width": 0.5
             },
             "pattern": {
              "fillmode": "overlay",
              "size": 10,
              "solidity": 0.2
             }
            },
            "type": "barpolar"
           }
          ],
          "carpet": [
           {
            "aaxis": {
             "endlinecolor": "#2a3f5f",
             "gridcolor": "white",
             "linecolor": "white",
             "minorgridcolor": "white",
             "startlinecolor": "#2a3f5f"
            },
            "baxis": {
             "endlinecolor": "#2a3f5f",
             "gridcolor": "white",
             "linecolor": "white",
             "minorgridcolor": "white",
             "startlinecolor": "#2a3f5f"
            },
            "type": "carpet"
           }
          ],
          "choropleth": [
           {
            "colorbar": {
             "outlinewidth": 0,
             "ticks": ""
            },
            "type": "choropleth"
           }
          ],
          "contour": [
           {
            "colorbar": {
             "outlinewidth": 0,
             "ticks": ""
            },
            "colorscale": [
             [
              0,
              "#0d0887"
             ],
             [
              0.1111111111111111,
              "#46039f"
             ],
             [
              0.2222222222222222,
              "#7201a8"
             ],
             [
              0.3333333333333333,
              "#9c179e"
             ],
             [
              0.4444444444444444,
              "#bd3786"
             ],
             [
              0.5555555555555556,
              "#d8576b"
             ],
             [
              0.6666666666666666,
              "#ed7953"
             ],
             [
              0.7777777777777778,
              "#fb9f3a"
             ],
             [
              0.8888888888888888,
              "#fdca26"
             ],
             [
              1,
              "#f0f921"
             ]
            ],
            "type": "contour"
           }
          ],
          "contourcarpet": [
           {
            "colorbar": {
             "outlinewidth": 0,
             "ticks": ""
            },
            "type": "contourcarpet"
           }
          ],
          "heatmap": [
           {
            "colorbar": {
             "outlinewidth": 0,
             "ticks": ""
            },
            "colorscale": [
             [
              0,
              "#0d0887"
             ],
             [
              0.1111111111111111,
              "#46039f"
             ],
             [
              0.2222222222222222,
              "#7201a8"
             ],
             [
              0.3333333333333333,
              "#9c179e"
             ],
             [
              0.4444444444444444,
              "#bd3786"
             ],
             [
              0.5555555555555556,
              "#d8576b"
             ],
             [
              0.6666666666666666,
              "#ed7953"
             ],
             [
              0.7777777777777778,
              "#fb9f3a"
             ],
             [
              0.8888888888888888,
              "#fdca26"
             ],
             [
              1,
              "#f0f921"
             ]
            ],
            "type": "heatmap"
           }
          ],
          "heatmapgl": [
           {
            "colorbar": {
             "outlinewidth": 0,
             "ticks": ""
            },
            "colorscale": [
             [
              0,
              "#0d0887"
             ],
             [
              0.1111111111111111,
              "#46039f"
             ],
             [
              0.2222222222222222,
              "#7201a8"
             ],
             [
              0.3333333333333333,
              "#9c179e"
             ],
             [
              0.4444444444444444,
              "#bd3786"
             ],
             [
              0.5555555555555556,
              "#d8576b"
             ],
             [
              0.6666666666666666,
              "#ed7953"
             ],
             [
              0.7777777777777778,
              "#fb9f3a"
             ],
             [
              0.8888888888888888,
              "#fdca26"
             ],
             [
              1,
              "#f0f921"
             ]
            ],
            "type": "heatmapgl"
           }
          ],
          "histogram": [
           {
            "marker": {
             "pattern": {
              "fillmode": "overlay",
              "size": 10,
              "solidity": 0.2
             }
            },
            "type": "histogram"
           }
          ],
          "histogram2d": [
           {
            "colorbar": {
             "outlinewidth": 0,
             "ticks": ""
            },
            "colorscale": [
             [
              0,
              "#0d0887"
             ],
             [
              0.1111111111111111,
              "#46039f"
             ],
             [
              0.2222222222222222,
              "#7201a8"
             ],
             [
              0.3333333333333333,
              "#9c179e"
             ],
             [
              0.4444444444444444,
              "#bd3786"
             ],
             [
              0.5555555555555556,
              "#d8576b"
             ],
             [
              0.6666666666666666,
              "#ed7953"
             ],
             [
              0.7777777777777778,
              "#fb9f3a"
             ],
             [
              0.8888888888888888,
              "#fdca26"
             ],
             [
              1,
              "#f0f921"
             ]
            ],
            "type": "histogram2d"
           }
          ],
          "histogram2dcontour": [
           {
            "colorbar": {
             "outlinewidth": 0,
             "ticks": ""
            },
            "colorscale": [
             [
              0,
              "#0d0887"
             ],
             [
              0.1111111111111111,
              "#46039f"
             ],
             [
              0.2222222222222222,
              "#7201a8"
             ],
             [
              0.3333333333333333,
              "#9c179e"
             ],
             [
              0.4444444444444444,
              "#bd3786"
             ],
             [
              0.5555555555555556,
              "#d8576b"
             ],
             [
              0.6666666666666666,
              "#ed7953"
             ],
             [
              0.7777777777777778,
              "#fb9f3a"
             ],
             [
              0.8888888888888888,
              "#fdca26"
             ],
             [
              1,
              "#f0f921"
             ]
            ],
            "type": "histogram2dcontour"
           }
          ],
          "mesh3d": [
           {
            "colorbar": {
             "outlinewidth": 0,
             "ticks": ""
            },
            "type": "mesh3d"
           }
          ],
          "parcoords": [
           {
            "line": {
             "colorbar": {
              "outlinewidth": 0,
              "ticks": ""
             }
            },
            "type": "parcoords"
           }
          ],
          "pie": [
           {
            "automargin": true,
            "type": "pie"
           }
          ],
          "scatter": [
           {
            "fillpattern": {
             "fillmode": "overlay",
             "size": 10,
             "solidity": 0.2
            },
            "type": "scatter"
           }
          ],
          "scatter3d": [
           {
            "line": {
             "colorbar": {
              "outlinewidth": 0,
              "ticks": ""
             }
            },
            "marker": {
             "colorbar": {
              "outlinewidth": 0,
              "ticks": ""
             }
            },
            "type": "scatter3d"
           }
          ],
          "scattercarpet": [
           {
            "marker": {
             "colorbar": {
              "outlinewidth": 0,
              "ticks": ""
             }
            },
            "type": "scattercarpet"
           }
          ],
          "scattergeo": [
           {
            "marker": {
             "colorbar": {
              "outlinewidth": 0,
              "ticks": ""
             }
            },
            "type": "scattergeo"
           }
          ],
          "scattergl": [
           {
            "marker": {
             "colorbar": {
              "outlinewidth": 0,
              "ticks": ""
             }
            },
            "type": "scattergl"
           }
          ],
          "scattermapbox": [
           {
            "marker": {
             "colorbar": {
              "outlinewidth": 0,
              "ticks": ""
             }
            },
            "type": "scattermapbox"
           }
          ],
          "scatterpolar": [
           {
            "marker": {
             "colorbar": {
              "outlinewidth": 0,
              "ticks": ""
             }
            },
            "type": "scatterpolar"
           }
          ],
          "scatterpolargl": [
           {
            "marker": {
             "colorbar": {
              "outlinewidth": 0,
              "ticks": ""
             }
            },
            "type": "scatterpolargl"
           }
          ],
          "scatterternary": [
           {
            "marker": {
             "colorbar": {
              "outlinewidth": 0,
              "ticks": ""
             }
            },
            "type": "scatterternary"
           }
          ],
          "surface": [
           {
            "colorbar": {
             "outlinewidth": 0,
             "ticks": ""
            },
            "colorscale": [
             [
              0,
              "#0d0887"
             ],
             [
              0.1111111111111111,
              "#46039f"
             ],
             [
              0.2222222222222222,
              "#7201a8"
             ],
             [
              0.3333333333333333,
              "#9c179e"
             ],
             [
              0.4444444444444444,
              "#bd3786"
             ],
             [
              0.5555555555555556,
              "#d8576b"
             ],
             [
              0.6666666666666666,
              "#ed7953"
             ],
             [
              0.7777777777777778,
              "#fb9f3a"
             ],
             [
              0.8888888888888888,
              "#fdca26"
             ],
             [
              1,
              "#f0f921"
             ]
            ],
            "type": "surface"
           }
          ],
          "table": [
           {
            "cells": {
             "fill": {
              "color": "#EBF0F8"
             },
             "line": {
              "color": "white"
             }
            },
            "header": {
             "fill": {
              "color": "#C8D4E3"
             },
             "line": {
              "color": "white"
             }
            },
            "type": "table"
           }
          ]
         },
         "layout": {
          "annotationdefaults": {
           "arrowcolor": "#2a3f5f",
           "arrowhead": 0,
           "arrowwidth": 1
          },
          "autotypenumbers": "strict",
          "coloraxis": {
           "colorbar": {
            "outlinewidth": 0,
            "ticks": ""
           }
          },
          "colorscale": {
           "diverging": [
            [
             0,
             "#8e0152"
            ],
            [
             0.1,
             "#c51b7d"
            ],
            [
             0.2,
             "#de77ae"
            ],
            [
             0.3,
             "#f1b6da"
            ],
            [
             0.4,
             "#fde0ef"
            ],
            [
             0.5,
             "#f7f7f7"
            ],
            [
             0.6,
             "#e6f5d0"
            ],
            [
             0.7,
             "#b8e186"
            ],
            [
             0.8,
             "#7fbc41"
            ],
            [
             0.9,
             "#4d9221"
            ],
            [
             1,
             "#276419"
            ]
           ],
           "sequential": [
            [
             0,
             "#0d0887"
            ],
            [
             0.1111111111111111,
             "#46039f"
            ],
            [
             0.2222222222222222,
             "#7201a8"
            ],
            [
             0.3333333333333333,
             "#9c179e"
            ],
            [
             0.4444444444444444,
             "#bd3786"
            ],
            [
             0.5555555555555556,
             "#d8576b"
            ],
            [
             0.6666666666666666,
             "#ed7953"
            ],
            [
             0.7777777777777778,
             "#fb9f3a"
            ],
            [
             0.8888888888888888,
             "#fdca26"
            ],
            [
             1,
             "#f0f921"
            ]
           ],
           "sequentialminus": [
            [
             0,
             "#0d0887"
            ],
            [
             0.1111111111111111,
             "#46039f"
            ],
            [
             0.2222222222222222,
             "#7201a8"
            ],
            [
             0.3333333333333333,
             "#9c179e"
            ],
            [
             0.4444444444444444,
             "#bd3786"
            ],
            [
             0.5555555555555556,
             "#d8576b"
            ],
            [
             0.6666666666666666,
             "#ed7953"
            ],
            [
             0.7777777777777778,
             "#fb9f3a"
            ],
            [
             0.8888888888888888,
             "#fdca26"
            ],
            [
             1,
             "#f0f921"
            ]
           ]
          },
          "colorway": [
           "#636efa",
           "#EF553B",
           "#00cc96",
           "#ab63fa",
           "#FFA15A",
           "#19d3f3",
           "#FF6692",
           "#B6E880",
           "#FF97FF",
           "#FECB52"
          ],
          "font": {
           "color": "#2a3f5f"
          },
          "geo": {
           "bgcolor": "white",
           "lakecolor": "white",
           "landcolor": "#E5ECF6",
           "showlakes": true,
           "showland": true,
           "subunitcolor": "white"
          },
          "hoverlabel": {
           "align": "left"
          },
          "hovermode": "closest",
          "mapbox": {
           "style": "light"
          },
          "paper_bgcolor": "white",
          "plot_bgcolor": "#E5ECF6",
          "polar": {
           "angularaxis": {
            "gridcolor": "white",
            "linecolor": "white",
            "ticks": ""
           },
           "bgcolor": "#E5ECF6",
           "radialaxis": {
            "gridcolor": "white",
            "linecolor": "white",
            "ticks": ""
           }
          },
          "scene": {
           "xaxis": {
            "backgroundcolor": "#E5ECF6",
            "gridcolor": "white",
            "gridwidth": 2,
            "linecolor": "white",
            "showbackground": true,
            "ticks": "",
            "zerolinecolor": "white"
           },
           "yaxis": {
            "backgroundcolor": "#E5ECF6",
            "gridcolor": "white",
            "gridwidth": 2,
            "linecolor": "white",
            "showbackground": true,
            "ticks": "",
            "zerolinecolor": "white"
           },
           "zaxis": {
            "backgroundcolor": "#E5ECF6",
            "gridcolor": "white",
            "gridwidth": 2,
            "linecolor": "white",
            "showbackground": true,
            "ticks": "",
            "zerolinecolor": "white"
           }
          },
          "shapedefaults": {
           "line": {
            "color": "#2a3f5f"
           }
          },
          "ternary": {
           "aaxis": {
            "gridcolor": "white",
            "linecolor": "white",
            "ticks": ""
           },
           "baxis": {
            "gridcolor": "white",
            "linecolor": "white",
            "ticks": ""
           },
           "bgcolor": "#E5ECF6",
           "caxis": {
            "gridcolor": "white",
            "linecolor": "white",
            "ticks": ""
           }
          },
          "title": {
           "x": 0.05
          },
          "xaxis": {
           "automargin": true,
           "gridcolor": "white",
           "linecolor": "white",
           "ticks": "",
           "title": {
            "standoff": 15
           },
           "zerolinecolor": "white",
           "zerolinewidth": 2
          },
          "yaxis": {
           "automargin": true,
           "gridcolor": "white",
           "linecolor": "white",
           "ticks": "",
           "title": {
            "standoff": 15
           },
           "zerolinecolor": "white",
           "zerolinewidth": 2
          }
         }
        },
        "title": {
         "text": "3D t-SNE Visualization of Vector Store"
        },
        "width": 800
       }
      }
     },
     "metadata": {},
     "output_type": "display_data"
    }
   ],
   "source": [
    "# 2D t-SNE visualization of vector store\n",
    "# Reduce the dimensionality of the vectors to 2D using t-SNE\n",
    "# Note: t-SNE is computationally expensive and may take a while for large datasets\n",
    "\n",
    "tsne = TSNE(n_components=3, random_state=42)\n",
    "reduced_vectors = tsne.fit_transform(vectors)\n",
    "\n",
    "# Create 2D scatter plot\n",
    "fig = go.Figure(data=[go.Scatter3d(\n",
    "    x=reduced_vectors[:, 0],\n",
    "    y=reduced_vectors[:, 1],\n",
    "    z=reduced_vectors[:, 2],\n",
    "    mode='markers',\n",
    "    marker=dict(size=10, color=colors, opacity=0.8),\n",
    "    text=[\n",
    "        f\"Document: {doc[:50]}...<br>Type: {metadata['doc_type']}\"\n",
    "        for doc, metadata in zip(documents, result['metadatas'])\n",
    "    ],\n",
    "    hoverinfo='text',\n",
    ")])\n",
    "\n",
    "fig.update_layout(\n",
    "    title='3D t-SNE Visualization of Vector Store',\n",
    "    scene=dict(\n",
    "        xaxis_title='x',\n",
    "        yaxis_title='y',\n",
    "        zaxis_title='z',\n",
    "    ),\n",
    "    width=800,\n",
    "    height=600,\n",
    "    margin=dict(l=10, r=20, t=40, b=10),\n",
    ")\n",
    "\n",
    "fig.show()"
   ]
  },
  {
   "cell_type": "code",
   "execution_count": 177,
   "metadata": {},
   "outputs": [
    {
     "name": "stderr",
     "output_type": "stream",
     "text": [
      "/var/folders/m2/yb02kznd4ld9kddjz_rgtw800000gn/T/ipykernel_15350/905439301.py:5: LangChainDeprecationWarning:\n",
      "\n",
      "Please see the migration guide at: https://python.langchain.com/docs/versions/migrating_memory/\n",
      "\n"
     ]
    }
   ],
   "source": [
    "# create a new chat with OpenAI\n",
    "llm = ChatOpenAI(model_name=MODEL, temperature=0.7)\n",
    "\n",
    "# set up the conversion memory for chat\n",
    "memory = ConversationBufferMemory(memory_key=\"chat_history\", return_messages=True)\n",
    "\n",
    "# the retriever is an abstraction over the vectorstore that will be used during RAG\n",
    "retriever = vectorstore.as_retriever()\n",
    "\n",
    "# putting langchain all together, we create a ConversationalRetrievalChain\n",
    "# that will use the LLM and the retriever to answer questions\n",
    "# and keep track of the conversation history in the memory\n",
    "# this is the chain that will be used to answer questions\n",
    "conversation_chain = ConversationalRetrievalChain.from_llm(\n",
    "    llm=llm,\n",
    "    retriever=retriever,\n",
    "    memory=memory\n",
    ")"
   ]
  },
  {
   "cell_type": "code",
   "execution_count": 178,
   "metadata": {},
   "outputs": [
    {
     "name": "stderr",
     "output_type": "stream",
     "text": [
      "/var/folders/m2/yb02kznd4ld9kddjz_rgtw800000gn/T/ipykernel_15350/1980799142.py:2: LangChainDeprecationWarning:\n",
      "\n",
      "The method `Chain.__call__` was deprecated in langchain 0.1.0 and will be removed in 1.0. Use :meth:`~invoke` instead.\n",
      "\n"
     ]
    },
    {
     "name": "stdout",
     "output_type": "stream",
     "text": [
      "Answer: Insurellm is an innovative insurance tech firm founded by Avery Lancaster in 2015. It specializes in disrupting the insurance industry with innovative products. Insurellm offers four main software products: Carllm (for auto insurance companies), Homellm (for home insurance companies), Rellm (an enterprise platform for the reinsurance sector), and Marketllm (a marketplace connecting consumers with insurance providers). The company has grown to 200 employees and serves more than 300 clients worldwide.\n"
     ]
    }
   ],
   "source": [
    "query = \"Whats Insurellm?\"\n",
    "result = conversation_chain({\"question\": query})\n",
    "print(f\"Answer: {result['answer']}\")"
   ]
  },
  {
   "cell_type": "code",
   "execution_count": 179,
   "metadata": {},
   "outputs": [],
   "source": [
    "def chat(message, history):\n",
    "  response = conversation_chain.invoke({\"question\": message})\n",
    "  return response['answer']"
   ]
  },
  {
   "cell_type": "code",
   "execution_count": 180,
   "metadata": {},
   "outputs": [
    {
     "name": "stderr",
     "output_type": "stream",
     "text": [
      "/Users/mahadasif/Desktop/LLM_engineering_course/venv/lib/python3.12/site-packages/gradio/components/chatbot.py:279: UserWarning:\n",
      "\n",
      "The 'tuples' format for chatbot messages is deprecated and will be removed in a future version of Gradio. Please set type='messages' instead, which uses openai-style 'role' and 'content' keys.\n",
      "\n"
     ]
    },
    {
     "name": "stdout",
     "output_type": "stream",
     "text": [
      "* Running on local URL:  http://127.0.0.1:7860\n",
      "\n",
      "To create a public link, set `share=True` in `launch()`.\n"
     ]
    },
    {
     "data": {
      "text/html": [
       "<div><iframe src=\"http://127.0.0.1:7860/\" width=\"100%\" height=\"500\" allow=\"autoplay; camera; microphone; clipboard-read; clipboard-write;\" frameborder=\"0\" allowfullscreen></iframe></div>"
      ],
      "text/plain": [
       "<IPython.core.display.HTML object>"
      ]
     },
     "metadata": {},
     "output_type": "display_data"
    }
   ],
   "source": [
    "view = gr.ChatInterface(chat).launch()"
   ]
  }
 ],
 "metadata": {
  "kernelspec": {
   "display_name": "venv",
   "language": "python",
   "name": "python3"
  },
  "language_info": {
   "codemirror_mode": {
    "name": "ipython",
    "version": 3
   },
   "file_extension": ".py",
   "mimetype": "text/x-python",
   "name": "python",
   "nbconvert_exporter": "python",
   "pygments_lexer": "ipython3",
   "version": "3.12.7"
  }
 },
 "nbformat": 4,
 "nbformat_minor": 2
}
