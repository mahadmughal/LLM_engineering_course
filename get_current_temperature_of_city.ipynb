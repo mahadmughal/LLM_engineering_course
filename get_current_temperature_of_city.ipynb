{
 "cells": [
  {
   "cell_type": "code",
   "execution_count": 5,
   "metadata": {},
   "outputs": [],
   "source": [
    "from openai import OpenAI\n",
    "import gradio as gr\n",
    "import json"
   ]
  },
  {
   "cell_type": "code",
   "execution_count": 6,
   "metadata": {},
   "outputs": [],
   "source": [
    "openai = OpenAI()"
   ]
  },
  {
   "cell_type": "code",
   "execution_count": 7,
   "metadata": {},
   "outputs": [],
   "source": [
    "from typing import Dict, Union\n",
    "\n",
    "def get_current_temperature(location: str, unit: str) -> Dict[str, Union[float, str]]:\n",
    "    \"\"\"\n",
    "    Tool function for OpenAI Assistant API to get temperature for a location\n",
    "    \n",
    "    Args:\n",
    "        location (str): City name\n",
    "        unit (str): Temperature unit (\"C\" or \"F\")\n",
    "    \n",
    "    Returns:\n",
    "        dict: Contains temperature, unit, location, and timestamp\n",
    "    \"\"\"\n",
    "    # Sample dataset of cities with temperatures in Celsius\n",
    "    temperature_data = {\n",
    "        \"new york\": {\"temp\": 20, \"country\": \"USA\"},\n",
    "        \"london\": {\"temp\": 15, \"country\": \"UK\"},\n",
    "        \"tokyo\": {\"temp\": 25, \"country\": \"Japan\"},\n",
    "        \"paris\": {\"temp\": 18, \"country\": \"France\"},\n",
    "        \"sydney\": {\"temp\": 22, \"country\": \"Australia\"}\n",
    "    }\n",
    "\n",
    "    def celsius_to_fahrenheit(celsius: float) -> float:\n",
    "        return (celsius * 9/5) + 32\n",
    "\n",
    "    try:\n",
    "        location = location.lower()\n",
    "        if location not in temperature_data:\n",
    "            return \"I have no data available for this city\"\n",
    "\n",
    "        temp_celsius = temperature_data[location][\"temp\"]\n",
    "        temp = celsius_to_fahrenheit(\n",
    "            temp_celsius) if unit.upper() == \"F\" else temp_celsius\n",
    "\n",
    "        return str(temp)\n",
    "\n",
    "    except Exception as e:\n",
    "        return {\n",
    "            \"error\": str(e),\n",
    "            \"status\": \"error\"\n",
    "        }"
   ]
  },
  {
   "cell_type": "code",
   "execution_count": 8,
   "metadata": {},
   "outputs": [],
   "source": [
    "tools = [\n",
    "  {\n",
    "    \"type\": \"function\",\n",
    "    \"description\": \"Get the current temperature of specific location\",\n",
    "    \"function\": {\n",
    "        \"name\": \"get_current_temperature\",\n",
    "        \"description\": \"Get the current temperature for a specific location\",\n",
    "        \"parameters\": {\n",
    "            \"type\": \"object\",\n",
    "            \"properties\": {\n",
    "                \"location\": {\n",
    "                    \"type\": \"string\",\n",
    "                    \"description\": \"The city, e.g. Islamabad, Karachi\"\n",
    "                },\n",
    "                \"unit\": {\n",
    "                    \"type\": \"string\",\n",
    "                    \"enum\": [\"C\", \"F\"],\n",
    "                    \"description\": \"The temperature unit to use. Infer this from the user's location. C for celcius and F for fahrenheit\"\n",
    "                }\n",
    "            },\n",
    "            \"required\": [\"location\", \"unit\"]\n",
    "        }\n",
    "    }\n",
    "  }\n",
    "]"
   ]
  },
  {
   "cell_type": "code",
   "execution_count": 9,
   "metadata": {},
   "outputs": [],
   "source": [
    "def chat_with_gpt(message, history):\n",
    "  messages = history + [{\"role\": \"user\", \"content\": message}]\n",
    "\n",
    "  # print(\"Input messages: \", messages)\n",
    "\n",
    "  completion = openai.chat.completions.create(\n",
    "      model=\"gpt-4o\",\n",
    "      messages=messages,\n",
    "      tools=tools,\n",
    "  )\n",
    "  \n",
    "  # print(\"Completion: \", completion)\n",
    "  \n",
    "  if not completion.choices[0].message.tool_calls:\n",
    "      return completion.choices[0].message.content\n",
    "  \n",
    "  tool_call = completion.choices[0].message.tool_calls[0]\n",
    "  # print(\"tool call info: \", tool_call)\n",
    "  args = json.loads(tool_call.function.arguments)\n",
    "  result = get_current_temperature(args[\"location\"], args[\"unit\"])\n",
    "\n",
    "  messages.append(completion.choices[0].message)\n",
    "  messages.append({                               # append result message\n",
    "      \"role\": \"tool\",\n",
    "      \"tool_call_id\": tool_call.id,\n",
    "      \"content\": result\n",
    "  })\n",
    "  \n",
    "  print(\"messages: \", messages)\n",
    "\n",
    "  # print(messages)\n",
    "\n",
    "  completion_2 = openai.chat.completions.create(\n",
    "      model=\"gpt-4o\",\n",
    "      messages=messages,\n",
    "      tools=tools,\n",
    "  )\n",
    "\n",
    "  return completion_2.choices[0].message.content"
   ]
  },
  {
   "cell_type": "code",
   "execution_count": null,
   "metadata": {},
   "outputs": [
    {
     "name": "stdout",
     "output_type": "stream",
     "text": [
      "* Running on local URL:  http://127.0.0.1:7860\n",
      "* Running on public URL: https://722f169d10fe73e346.gradio.live\n",
      "\n",
      "This share link expires in 72 hours. For free permanent hosting and GPU upgrades, run `gradio deploy` from the terminal in the working directory to deploy to Hugging Face Spaces (https://huggingface.co/spaces)\n"
     ]
    },
    {
     "data": {
      "text/html": [
       "<div><iframe src=\"https://722f169d10fe73e346.gradio.live\" width=\"100%\" height=\"500\" allow=\"autoplay; camera; microphone; clipboard-read; clipboard-write;\" frameborder=\"0\" allowfullscreen></iframe></div>"
      ],
      "text/plain": [
       "<IPython.core.display.HTML object>"
      ]
     },
     "metadata": {},
     "output_type": "display_data"
    },
    {
     "name": "stdout",
     "output_type": "stream",
     "text": [
      "messages:  [{'role': 'user', 'metadata': {'title': None, 'id': None, 'parent_id': None, 'duration': None, 'status': None}, 'content': 'Hello ', 'options': None}, {'role': 'assistant', 'metadata': {'title': None, 'id': None, 'parent_id': None, 'duration': None, 'status': None}, 'content': 'Hi there! How can I assist you today?', 'options': None}, {'role': 'user', 'metadata': {'title': None, 'id': None, 'parent_id': None, 'duration': None, 'status': None}, 'content': 'how are you ?', 'options': None}, {'role': 'assistant', 'metadata': {'title': None, 'id': None, 'parent_id': None, 'duration': None, 'status': None}, 'content': \"I'm just a virtual assistant, but I'm here and ready to help you! How can I assist you today?\", 'options': None}, {'role': 'user', 'metadata': {'title': None, 'id': None, 'parent_id': None, 'duration': None, 'status': None}, 'content': 'can you provide me the data related to weather', 'options': None}, {'role': 'assistant', 'metadata': {'title': None, 'id': None, 'parent_id': None, 'duration': None, 'status': None}, 'content': 'Sure, I can help you with weather information. Please provide the name of the city for which you would like to know the weather details, and let me know if you prefer the temperature in Celsius or Fahrenheit.', 'options': None}, {'role': 'user', 'metadata': {'title': None, 'id': None, 'parent_id': None, 'duration': None, 'status': None}, 'content': 'paris ?', 'options': None}, {'role': 'assistant', 'metadata': {'title': None, 'id': None, 'parent_id': None, 'duration': None, 'status': None}, 'content': 'Would you like the temperature in Celsius or Fahrenheit for Paris?', 'options': None}, {'role': 'user', 'content': 'any ?'}, ChatCompletionMessage(content=None, refusal=None, role='assistant', audio=None, function_call=None, tool_calls=[ChatCompletionMessageToolCall(id='call_CSn1408pjjX84o9DM5YCvSts', function=Function(arguments='{\"location\":\"Paris\",\"unit\":\"C\"}', name='get_current_temperature'), type='function')]), {'role': 'tool', 'tool_call_id': 'call_CSn1408pjjX84o9DM5YCvSts', 'content': '18'}]\n",
      "messages:  [{'role': 'user', 'metadata': {'title': None, 'id': None, 'parent_id': None, 'duration': None, 'status': None}, 'content': 'Hello ', 'options': None}, {'role': 'assistant', 'metadata': {'title': None, 'id': None, 'parent_id': None, 'duration': None, 'status': None}, 'content': 'Hi there! How can I assist you today?', 'options': None}, {'role': 'user', 'metadata': {'title': None, 'id': None, 'parent_id': None, 'duration': None, 'status': None}, 'content': 'how are you ?', 'options': None}, {'role': 'assistant', 'metadata': {'title': None, 'id': None, 'parent_id': None, 'duration': None, 'status': None}, 'content': \"I'm just a virtual assistant, but I'm here and ready to help you! How can I assist you today?\", 'options': None}, {'role': 'user', 'metadata': {'title': None, 'id': None, 'parent_id': None, 'duration': None, 'status': None}, 'content': 'can you provide me the data related to weather', 'options': None}, {'role': 'assistant', 'metadata': {'title': None, 'id': None, 'parent_id': None, 'duration': None, 'status': None}, 'content': 'Sure, I can help you with weather information. Please provide the name of the city for which you would like to know the weather details, and let me know if you prefer the temperature in Celsius or Fahrenheit.', 'options': None}, {'role': 'user', 'metadata': {'title': None, 'id': None, 'parent_id': None, 'duration': None, 'status': None}, 'content': 'paris ?', 'options': None}, {'role': 'assistant', 'metadata': {'title': None, 'id': None, 'parent_id': None, 'duration': None, 'status': None}, 'content': 'Would you like the temperature in Celsius or Fahrenheit for Paris?', 'options': None}, {'role': 'user', 'metadata': {'title': None, 'id': None, 'parent_id': None, 'duration': None, 'status': None}, 'content': 'any ?', 'options': None}, {'role': 'assistant', 'metadata': {'title': None, 'id': None, 'parent_id': None, 'duration': None, 'status': None}, 'content': 'The current temperature in Paris is 18°C. If you need any more weather information, feel free to ask!', 'options': None}, {'role': 'user', 'content': 'London'}, ChatCompletionMessage(content=None, refusal=None, role='assistant', audio=None, function_call=None, tool_calls=[ChatCompletionMessageToolCall(id='call_DMRPIPYzKPflcSPDuj3DaP05', function=Function(arguments='{\"location\":\"London\",\"unit\":\"C\"}', name='get_current_temperature'), type='function')]), {'role': 'tool', 'tool_call_id': 'call_DMRPIPYzKPflcSPDuj3DaP05', 'content': '15'}]\n"
     ]
    }
   ],
   "source": [
    "demo = gr.ChatInterface(\n",
    "    fn=chat_with_gpt,\n",
    "    type=\"messages\",\n",
    "    title=\"Weather Bot\",\n",
    "    flagging_mode=\"never\"\n",
    ")\n",
    "\n",
    "demo.launch(share=True, debug=True)"
   ]
  }
 ],
 "metadata": {
  "kernelspec": {
   "display_name": "venv",
   "language": "python",
   "name": "python3"
  },
  "language_info": {
   "codemirror_mode": {
    "name": "ipython",
    "version": 3
   },
   "file_extension": ".py",
   "mimetype": "text/x-python",
   "name": "python",
   "nbconvert_exporter": "python",
   "pygments_lexer": "ipython3",
   "version": "3.12.7"
  }
 },
 "nbformat": 4,
 "nbformat_minor": 2
}
